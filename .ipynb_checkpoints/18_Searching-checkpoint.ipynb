{
 "cells": [
  {
   "cell_type": "markdown",
   "id": "2d23ea03",
   "metadata": {},
   "source": [
    "# Search\n",
    "\n",
    "## Linear Search"
   ]
  },
  {
   "cell_type": "code",
   "execution_count": 2,
   "id": "c58e5b94",
   "metadata": {},
   "outputs": [
    {
     "name": "stdout",
     "output_type": "stream",
     "text": [
      "-1\n"
     ]
    }
   ],
   "source": [
    "def linearSearch(arr, value):\n",
    "    for i, v in enumerate(arr):\n",
    "        if v == value:\n",
    "            return 1\n",
    "    return -1\n",
    "\n",
    "print(linearSearch([20,40,30,50,90],10))"
   ]
  },
  {
   "cell_type": "markdown",
   "id": "7f34aaf8",
   "metadata": {},
   "source": [
    "## Binary Search "
   ]
  },
  {
   "cell_type": "code",
   "execution_count": 17,
   "id": "afa84219",
   "metadata": {},
   "outputs": [
    {
     "data": {
      "text/plain": [
       "-1"
      ]
     },
     "execution_count": 17,
     "metadata": {},
     "output_type": "execute_result"
    }
   ],
   "source": [
    "import math\n",
    "\n",
    "def binarySearch(arr, value):\n",
    "    # define pointers\n",
    "    start = 0\n",
    "    end = len(arr)-1\n",
    "    middle = math.floor((start+end)/2)\n",
    "    while not(arr[middle]== value) and start <= end:\n",
    "        if value < arr[middle]:\n",
    "            end = middle - 1\n",
    "        else:\n",
    "            start = middle + 1\n",
    "        middle = math.floor((start+end)/2)\n",
    "        \n",
    "    if arr[middle] == value:\n",
    "        return f\"index: {middle}\"\n",
    "    else:\n",
    "        return -1\n",
    "\n",
    "custArray = [8,9,12,15,17,19,20,21,28, 29]\n",
    "binarySearch(custArray, 25)"
   ]
  },
  {
   "cell_type": "code",
   "execution_count": null,
   "id": "d4b48e52",
   "metadata": {},
   "outputs": [],
   "source": []
  }
 ],
 "metadata": {
  "kernelspec": {
   "display_name": "Python 3 (ipykernel)",
   "language": "python",
   "name": "python3"
  },
  "language_info": {
   "codemirror_mode": {
    "name": "ipython",
    "version": 3
   },
   "file_extension": ".py",
   "mimetype": "text/x-python",
   "name": "python",
   "nbconvert_exporter": "python",
   "pygments_lexer": "ipython3",
   "version": "3.8.12"
  }
 },
 "nbformat": 4,
 "nbformat_minor": 5
}
