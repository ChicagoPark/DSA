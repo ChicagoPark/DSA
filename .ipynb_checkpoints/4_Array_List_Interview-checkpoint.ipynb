{
 "cells": [
  {
   "cell_type": "markdown",
   "id": "15aabd96",
   "metadata": {},
   "source": [
    "# Array List Interview Question in Big Tech"
   ]
  },
  {
   "cell_type": "markdown",
   "id": "30dc8136",
   "metadata": {},
   "source": [
    "## Question 1 - Missing Number\n",
    "\n",
    "### How to find missing number in an integer array of 1 to 100?\n",
    "\n",
    "Hint: use 1+2+3+...+n = n(n+1)/2"
   ]
  },
  {
   "cell_type": "code",
   "execution_count": 20,
   "id": "08b696b1",
   "metadata": {},
   "outputs": [
    {
     "name": "stdout",
     "output_type": "stream",
     "text": [
      "[1, 2, 3, 4, 5, 6, 7, 8, 9, 10, 11, 12, 13, 14, 15, 16, 17, 18, 19, 20, 21, 22, 23, 24, 25, 26, 27, 28, 29, 30, 31, 32, 33, 34, 35, 36, 37, 38, 39, 40, 41, 42, 43, 44, 45, 46, 47, 48, 49, 50, 51, 52, 53, 54, 55, 56, 57, 58, 59, 60, 61, 62, 63, 64, 65, 66, 67, 68, 69, 70, 71, 72, 73, 74, 75, 76, 77, 78, 79, 80, 81, 82, 83, 84, 85, 86, 87, 88, 89, 90, 91, 92, 93, 94, 95, 96, 97, 98, 99]\n",
      "some value is missing\n",
      "missing element is 100.0\n"
     ]
    }
   ],
   "source": [
    "myList = [x for x in range(1,100)]\n",
    "print(myList)\n",
    "\n",
    "def missingNum(arr):\n",
    "    sum1 = sum(arr)\n",
    "    ans_sum = 101*100/2\n",
    "    if ans_sum != sum1:\n",
    "        print(\"some value is missing\")\n",
    "        print(f\"missing element is {ans_sum-sum1}\")\n",
    "missingNum(myList)"
   ]
  },
  {
   "cell_type": "markdown",
   "id": "a75b4997",
   "metadata": {},
   "source": [
    "## Question 2 - Pairs / Two Sum\n",
    "### Write a program to find all pairs of integers whose sum is equal to a given number.\n",
    "\n",
    "[Example]\n",
    "\n",
    "array: [2,6,3,9,11] target: 9\n",
    "\n",
    "output: [6,3]"
   ]
  },
  {
   "cell_type": "code",
   "execution_count": 24,
   "id": "ef930cee",
   "metadata": {},
   "outputs": [
    {
     "name": "stdout",
     "output_type": "stream",
     "text": [
      "[0,6]\n",
      "[1,5]\n",
      "[3,5]\n"
     ]
    }
   ],
   "source": [
    "def findPair(arr, target):\n",
    "    for i in range(len(arr)):\n",
    "        for j in range(i+1,len(arr)):\n",
    "            if arr[i] == arr[j]:\n",
    "                continue\n",
    "            if arr[i] + arr[j] == target:\n",
    "                print(f\"[{i},{j}]\")\n",
    "arr = [1,2,3,2,3, 4, 5, 6]\n",
    "target = 6\n",
    "findPair(arr, target)"
   ]
  },
  {
   "cell_type": "markdown",
   "id": "9cbec780",
   "metadata": {},
   "source": [
    "## Question 3 - Finding a number in an Array"
   ]
  },
  {
   "cell_type": "code",
   "execution_count": null,
   "id": "a3c3685d",
   "metadata": {},
   "outputs": [],
   "source": []
  },
  {
   "cell_type": "markdown",
   "id": "acd84c51",
   "metadata": {},
   "source": [
    "## Question 4 - Max product of two int"
   ]
  },
  {
   "cell_type": "code",
   "execution_count": null,
   "id": "0066fe0d",
   "metadata": {},
   "outputs": [],
   "source": []
  },
  {
   "cell_type": "markdown",
   "id": "7738eed9",
   "metadata": {},
   "source": [
    "## Question 5 - Is Unique / Contains Duplicate - LeetCode 217"
   ]
  },
  {
   "cell_type": "code",
   "execution_count": null,
   "id": "44dcfb55",
   "metadata": {},
   "outputs": [],
   "source": []
  },
  {
   "cell_type": "markdown",
   "id": "ebbbb8ee",
   "metadata": {},
   "source": [
    "## Question 6 - Permutation"
   ]
  },
  {
   "cell_type": "code",
   "execution_count": null,
   "id": "926e914c",
   "metadata": {},
   "outputs": [],
   "source": []
  },
  {
   "cell_type": "markdown",
   "id": "fa36d288",
   "metadata": {},
   "source": [
    "## Question 7 - Rotate Matrix / Image - LeetCode 48"
   ]
  },
  {
   "cell_type": "code",
   "execution_count": null,
   "id": "601a7f1a",
   "metadata": {},
   "outputs": [],
   "source": []
  }
 ],
 "metadata": {
  "kernelspec": {
   "display_name": "Python 3 (ipykernel)",
   "language": "python",
   "name": "python3"
  },
  "language_info": {
   "codemirror_mode": {
    "name": "ipython",
    "version": 3
   },
   "file_extension": ".py",
   "mimetype": "text/x-python",
   "name": "python",
   "nbconvert_exporter": "python",
   "pygments_lexer": "ipython3",
   "version": "3.7.11"
  }
 },
 "nbformat": 4,
 "nbformat_minor": 5
}
