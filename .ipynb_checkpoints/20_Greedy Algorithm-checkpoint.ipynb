{
 "cells": [
  {
   "cell_type": "markdown",
   "id": "2a8e8a6b",
   "metadata": {},
   "source": [
    "# Greedy Algorithm\n",
    "\n",
    "## Activity Selection Problem in Python"
   ]
  },
  {
   "cell_type": "code",
   "execution_count": 1,
   "id": "a6878686",
   "metadata": {},
   "outputs": [
    {
     "name": "stdout",
     "output_type": "stream",
     "text": [
      "A3\n",
      "A2\n",
      "A5\n",
      "A6\n"
     ]
    }
   ],
   "source": [
    "def printMaxActivities(activities):\n",
    "    # sort the array using end time\n",
    "    activities.sort(key=lambda x:x[2])\n",
    "    i = 0\n",
    "    firstA = activities[i][0]\n",
    "    print(firstA)\n",
    "    for j in range(len(activities)):\n",
    "        # find the upcoming activity\n",
    "        if activities[j][1] > activities[i][2]:\n",
    "            print(activities[j][0])\n",
    "            i = j\n",
    "            \n",
    "activities = [[\"A1\", 0, 6],\n",
    "              [\"A2\", 3, 4],\n",
    "              [\"A3\", 1, 2],\n",
    "              [\"A4\", 5, 8],\n",
    "              [\"A5\", 5, 7],\n",
    "              [\"A6\", 8, 9]]            \n",
    "\n",
    "printMaxActivities(activities)\n",
    "        "
   ]
  },
  {
   "cell_type": "markdown",
   "id": "d223aab1",
   "metadata": {},
   "source": [
    "## Coin Change Problem in Python "
   ]
  },
  {
   "cell_type": "code",
   "execution_count": 3,
   "id": "c6253182",
   "metadata": {},
   "outputs": [
    {
     "name": "stdout",
     "output_type": "stream",
     "text": [
      "100\n",
      "100\n",
      "1\n"
     ]
    }
   ],
   "source": [
    "def coinChange(totalPrice, coins):\n",
    "    # [1] data processing\n",
    "    N = totalPrice\n",
    "    coins.sort()\n",
    "    \n",
    "    # [2] get the most expensive coins\n",
    "    index = len(coins)-1\n",
    "    while True:\n",
    "        coinValue = coins[index]\n",
    "        if N >= coinValue:\n",
    "            print(coinValue)\n",
    "            N = N - coinValue\n",
    "        if N < coinValue:\n",
    "            index -= 1\n",
    "            \n",
    "        if N == 0:\n",
    "            break\n",
    "            \n",
    "coins = [1, 2, 5, 20, 50, 100]\n",
    "coinChange(201, coins)"
   ]
  },
  {
   "cell_type": "code",
   "execution_count": null,
   "id": "4fea12e4",
   "metadata": {},
   "outputs": [],
   "source": []
  }
 ],
 "metadata": {
  "kernelspec": {
   "display_name": "Python 3 (ipykernel)",
   "language": "python",
   "name": "python3"
  },
  "language_info": {
   "codemirror_mode": {
    "name": "ipython",
    "version": 3
   },
   "file_extension": ".py",
   "mimetype": "text/x-python",
   "name": "python",
   "nbconvert_exporter": "python",
   "pygments_lexer": "ipython3",
   "version": "3.8.12"
  }
 },
 "nbformat": 4,
 "nbformat_minor": 5
}
