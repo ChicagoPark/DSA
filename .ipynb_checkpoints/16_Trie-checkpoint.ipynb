{
 "cells": [
  {
   "cell_type": "markdown",
   "id": "a8b4512d",
   "metadata": {},
   "source": [
    "# Trie"
   ]
  },
  {
   "cell_type": "code",
   "execution_count": 18,
   "id": "82de09f2",
   "metadata": {},
   "outputs": [
    {
     "name": "stdout",
     "output_type": "stream",
     "text": [
      "Successfully inserted\n",
      "Successfully inserted\n",
      "False\n"
     ]
    }
   ],
   "source": [
    "class TrieNode:\n",
    "    def __init__(self):\n",
    "        self.children = {}\n",
    "        self.endOFString = False\n",
    "        \n",
    "class Trie:\n",
    "    def __init__(self):\n",
    "        self.root = TrieNode()\n",
    "        \n",
    "    def insertString(self, word):\n",
    "        current = self.root \n",
    "        for char in word:\n",
    "            node = current.children.get(char)\n",
    "            if node == None:\n",
    "                node = TrieNode()\n",
    "                current.children.update({char:node})\n",
    "            current = node\n",
    "        current.endOFString = True\n",
    "        print(\"Successfully inserted\")\n",
    "    \n",
    "    def searchString(self, word):\n",
    "        currentNode = self.root\n",
    "        for char in word:\n",
    "            node = currentNode.children.get(char)\n",
    "            if node == None:\n",
    "                return False\n",
    "            currentNode = node\n",
    "        if currentNode.endOFString == True:\n",
    "            return True\n",
    "        else:\n",
    "            return False\n",
    "        \n",
    "def deleteString(root, word, index):\n",
    "    char = word[index]\n",
    "    currentNode = root.children.get(char)\n",
    "    canThisNodeBeDeleted = False\n",
    "    \n",
    "    if len(currentNode.children) > 1:\n",
    "        deleteString(currentNode, word, index+1)\n",
    "        return False # since there are other child nodes\n",
    "    \n",
    "    if index == len(word)-1:\n",
    "        if len(currentNode.children) >= 1:\n",
    "            currentNode.endOFString = False\n",
    "            return False\n",
    "        else:\n",
    "            root.children.pop(char)\n",
    "            return True\n",
    "    \n",
    "    #if currentNode.endOFString == True:\n",
    "    #    deleteString(currentNode, word, index+1)\n",
    "    #    return False\n",
    "\n",
    "    canThisNodeBeDeleted = deleteString(currentNode, word, index+1)\n",
    "    if canThisNodeBeDeleted == True:\n",
    "        return True\n",
    "    else:\n",
    "        return False\n",
    "    \n",
    "newTrie = Trie()\n",
    "newTrie.insertString(\"App\")\n",
    "newTrie.insertString(\"Appl\")\n",
    "deleteString(newTrie.root, \"App\", 0) # Starting from 0\n",
    "\n",
    "print(newTrie.searchString(\"App\"))\n",
    "\n"
   ]
  },
  {
   "cell_type": "code",
   "execution_count": null,
   "id": "915e0f79",
   "metadata": {},
   "outputs": [],
   "source": []
  }
 ],
 "metadata": {
  "kernelspec": {
   "display_name": "Python 3 (ipykernel)",
   "language": "python",
   "name": "python3"
  },
  "language_info": {
   "codemirror_mode": {
    "name": "ipython",
    "version": 3
   },
   "file_extension": ".py",
   "mimetype": "text/x-python",
   "name": "python",
   "nbconvert_exporter": "python",
   "pygments_lexer": "ipython3",
   "version": "3.8.12"
  }
 },
 "nbformat": 4,
 "nbformat_minor": 5
}
