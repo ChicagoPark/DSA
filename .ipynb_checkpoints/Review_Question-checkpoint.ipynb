{
 "cells": [
  {
   "cell_type": "markdown",
   "id": "0efa4319",
   "metadata": {},
   "source": [
    "## Interview Question - 3 (Section 3 - 20)\n",
    "### How to find GCD (Greatest Common Divisor) of two numbers using recursion?\n",
    "\n",
    "<!--\n",
    "[Explanation]\n",
    "\n",
    "![5.png](attachment:5.png)\n",
    "\n",
    "\n",
    "\n",
    "```python\n",
    "def gcd(a, b):\n",
    "    assert int(a)==a and int(b)==b, 'The numbers must be integer only!'\n",
    "    if b == 0:\n",
    "        return a\n",
    "    else:\n",
    "        return gcd(b, a%b)\n",
    "\n",
    "```\n",
    "\n",
    "\n",
    "print\n",
    "-->\n"
   ]
  },
  {
   "cell_type": "code",
   "execution_count": 1,
   "id": "98049ddd",
   "metadata": {},
   "outputs": [
    {
     "name": "stdout",
     "output_type": "stream",
     "text": [
      "5\n"
     ]
    }
   ],
   "source": [
    "def gcd(a, b):\n",
    "    if b == 0:\n",
    "        return a\n",
    "    else:\n",
    "        return gcd(b, a%b)\n",
    "print(gcd(10, 15))"
   ]
  },
  {
   "cell_type": "markdown",
   "id": "0009a373",
   "metadata": {},
   "source": [
    "## Interview Question - 4\n",
    "### How to convert a number from Decimal to Binary using recursion\n",
    "\n",
    "<!--\n",
    "![7.png](attachment:7.png)\n",
    "\n",
    "```python\n",
    "def decimalToBinary(n):\n",
    "    assert int(n) == n, 'Integer Type Only!'\n",
    "    if n == 0:\n",
    "        return 0\n",
    "    else:\n",
    "        return n%2 + 10*(decimalToBinary(n//2))\n",
    "```\n",
    "-->"
   ]
  },
  {
   "cell_type": "code",
   "execution_count": 3,
   "id": "e6f69d09",
   "metadata": {},
   "outputs": [
    {
     "name": "stdout",
     "output_type": "stream",
     "text": [
      "1010\n"
     ]
    }
   ],
   "source": [
    "def decTObin(num):\n",
    "    if num == 0:\n",
    "        return 0\n",
    "    else:\n",
    "        return 10*(decTObin(num//2)) + num%2\n",
    "print(decTObin(10))"
   ]
  },
  {
   "cell_type": "markdown",
   "id": "4a9cb28f",
   "metadata": {},
   "source": [
    "## Review Question - 1\n",
    "\n",
    "### Make two dimensional array (4X4) and insert one column\n",
    "\n",
    "<!--\n",
    "```python\n",
    "twoDArray = np.array([[11,15,10,6],[10,14,11,5],[12,17,12,8],[15,18,14,9]])\n",
    "\n",
    "# Add new column to twoDArray\n",
    "newTwoDArray = np.insert(twoDArray, 0, [[1,2,3,4]], axis=1)\n",
    "\n",
    "print(newTwoDArray)\n",
    "```\n",
    "-->"
   ]
  },
  {
   "cell_type": "code",
   "execution_count": 18,
   "id": "4cb5e574",
   "metadata": {},
   "outputs": [
    {
     "name": "stdout",
     "output_type": "stream",
     "text": [
      "array('i', [1, 2, 3, 4])\n",
      "array('i', [10, 1, 2, 3, 4])\n",
      "[[1 2 3]\n",
      " [2 3 4]\n",
      " [3 4 5]\n",
      " [4 5 6]]\n",
      "[[0 0 0]\n",
      " [1 2 3]\n",
      " [2 3 4]\n",
      " [3 4 5]\n",
      " [4 5 6]]\n"
     ]
    }
   ],
   "source": [
    "from array import *\n",
    "twoDArr = array('i', [1,2,3,4])\n",
    "print(twoDArr)\n",
    "\n",
    "twoDArr.insert(0, 10)\n",
    "\n",
    "print(twoDArr)\n",
    "import numpy as np\n",
    "twoDArr = np.array([[1,2,3],[2,3,4],[3,4,5],[4,5,6]])\n",
    "print(twoDArr)\n",
    "new_Arr = np.insert(twoDArr, 0, [0,0,0], axis=0)\n",
    "print(new_Arr)"
   ]
  },
  {
   "cell_type": "markdown",
   "id": "1fbcedce",
   "metadata": {},
   "source": [
    "## Interview Question - 1 (Section 4 - 3)\n",
    "\n",
    "#### Write a function called `productOfArray` which takes in an array of numbers and returns the product of them all\n",
    "\n",
    "```python\n",
    "productOfArray([1,2,3]) # 6\n",
    "productOfArray([1,2,3,10]) # 60\n",
    "```"
   ]
  },
  {
   "cell_type": "code",
   "execution_count": 20,
   "id": "5bc63603",
   "metadata": {},
   "outputs": [
    {
     "name": "stdout",
     "output_type": "stream",
     "text": [
      "6\n"
     ]
    }
   ],
   "source": [
    "def productOfArray(arr):\n",
    "    if len(arr) == 0:\n",
    "        return 0\n",
    "    else:\n",
    "        return arr[0] + productOfArray(arr[1:])\n",
    "print(productOfArray([1,2,3]))"
   ]
  },
  {
   "cell_type": "markdown",
   "id": "74c6c38a",
   "metadata": {},
   "source": [
    "## Chicago Question\n",
    "\n",
    "### Use `map` function and `lambda` function \n",
    "\n",
    "### Write a Python program to convert a given list of tuples to a list of strings using map function."
   ]
  },
  {
   "cell_type": "code",
   "execution_count": 21,
   "id": "076f27a8",
   "metadata": {},
   "outputs": [],
   "source": [
    "given_tuple = (1,2,3,4,5)"
   ]
  },
  {
   "cell_type": "code",
   "execution_count": null,
   "id": "250d144d",
   "metadata": {},
   "outputs": [],
   "source": []
  },
  {
   "cell_type": "code",
   "execution_count": null,
   "id": "f5194e9b",
   "metadata": {},
   "outputs": [],
   "source": []
  },
  {
   "cell_type": "code",
   "execution_count": null,
   "id": "4df238b0",
   "metadata": {},
   "outputs": [],
   "source": []
  },
  {
   "cell_type": "code",
   "execution_count": null,
   "id": "5406c92f",
   "metadata": {},
   "outputs": [],
   "source": []
  },
  {
   "cell_type": "code",
   "execution_count": null,
   "id": "a6172970",
   "metadata": {},
   "outputs": [],
   "source": []
  },
  {
   "cell_type": "code",
   "execution_count": null,
   "id": "757b2685",
   "metadata": {},
   "outputs": [],
   "source": []
  },
  {
   "cell_type": "code",
   "execution_count": null,
   "id": "4d7273d9",
   "metadata": {},
   "outputs": [],
   "source": []
  }
 ],
 "metadata": {
  "kernelspec": {
   "display_name": "Python 3 (ipykernel)",
   "language": "python",
   "name": "python3"
  },
  "language_info": {
   "codemirror_mode": {
    "name": "ipython",
    "version": 3
   },
   "file_extension": ".py",
   "mimetype": "text/x-python",
   "name": "python",
   "nbconvert_exporter": "python",
   "pygments_lexer": "ipython3",
   "version": "3.7.11"
  }
 },
 "nbformat": 4,
 "nbformat_minor": 5
}
