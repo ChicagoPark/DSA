{
 "cells": [
  {
   "cell_type": "markdown",
   "id": "5dd6fd11",
   "metadata": {},
   "source": [
    "# AVL Tree"
   ]
  },
  {
   "cell_type": "code",
   "execution_count": 1,
   "id": "efeeb712",
   "metadata": {},
   "outputs": [],
   "source": [
    "from Module.classCollection import Queue\n",
    "\n",
    "class AVLNode:\n",
    "    def __init__(self, data):\n",
    "        self.data = data\n",
    "        self.leftChild = None\n",
    "        self.rightChild = None\n",
    "        self.height = 1\n",
    "        \n",
    "def preorderTraversal(rootNode):\n",
    "    if not rootNode:\n",
    "        return\n",
    "    print(rootNode.data)\n",
    "    preorderTraversal(rootNode.leftChild)\n",
    "    preorderTraversal(rootNode.rightChild)\n",
    "        \n",
    "def inorderTraversal(rootNode):\n",
    "    if not rootNode:\n",
    "        return\n",
    "    inorderTraversal(rootNode.leftChild)\n",
    "    print(root.data)\n",
    "    inorderTraversal(rootNode.rightChild)\n",
    "    \n",
    "def postorderTraversal(rootNode):\n",
    "    if rootNode == None:\n",
    "        return\n",
    "    postorderTraversal(rootNode.leftChild)\n",
    "    postorderTraversal(rootNode.rightChild)\n",
    "    print(rootNode.data)\n",
    "\n",
    "def levelorderTraversal(rootNode):\n",
    "    if rootNode == None:\n",
    "        return\n",
    "    customQueue = Queue()\n",
    "    customQueue.enqueue(rootNode)\n",
    "    while customQueue.isEmpty() is not True:\n",
    "        tempNode = customQueue.dequeue()\n",
    "        print(tempNode.value.data)\n",
    "        if tempNode.leftChild is not None:\n",
    "            customQueue.enqueue(tempNode.value.leftChild)\n",
    "        if tempNode.rightChild is not None:\n",
    "            customQueue.enqueue(tempNode.value.rightChild)\n",
    "            \n",
    "def searchNode(rootNode, nodeValue):\n",
    "    if rootNode.data == nodeValue:\n",
    "        print(\"The value is found\")\n",
    "    elif nodeValue < rootNode.data:\n",
    "        searchNode(rootNode.leftChild, nodeValue)\n",
    "    else:\n",
    "        searchNode(rootNode.rightChild, nodeValue)\n",
    "        \n",
    "\n",
    "        \n",
    "\n",
    "        \n",
    "        \n",
    "\n",
    "newAVL = AVLNode(10)\n",
    "\n",
    "\n",
    "print(\"----1.preorder----\")\n",
    "\n",
    "print(\"----2.inorder----\")\n",
    "\n",
    "print(\"----3.postorder----\")\n",
    "\n",
    "print(\"----4.levelorder----\")\n",
    "\n"
   ]
  },
  {
   "cell_type": "code",
   "execution_count": null,
   "id": "7f66465b",
   "metadata": {},
   "outputs": [],
   "source": []
  },
  {
   "cell_type": "code",
   "execution_count": null,
   "id": "b8421fb5",
   "metadata": {},
   "outputs": [],
   "source": []
  }
 ],
 "metadata": {
  "kernelspec": {
   "display_name": "Python 3 (ipykernel)",
   "language": "python",
   "name": "python3"
  },
  "language_info": {
   "codemirror_mode": {
    "name": "ipython",
    "version": 3
   },
   "file_extension": ".py",
   "mimetype": "text/x-python",
   "name": "python",
   "nbconvert_exporter": "python",
   "pygments_lexer": "ipython3",
   "version": "3.8.12"
  }
 },
 "nbformat": 4,
 "nbformat_minor": 5
}
