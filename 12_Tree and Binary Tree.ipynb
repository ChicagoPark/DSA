{
 "cells": [
  {
   "cell_type": "markdown",
   "id": "0a01232a",
   "metadata": {},
   "source": [
    "# Tree"
   ]
  },
  {
   "cell_type": "code",
   "execution_count": 6,
   "id": "4353447c",
   "metadata": {},
   "outputs": [
    {
     "name": "stdout",
     "output_type": "stream",
     "text": [
      "Drinks\n",
      " Cold\n",
      "  Cola\n",
      "  Fanta\n",
      " Hot\n",
      "  Tea\n",
      "  Coffee\n",
      "\n"
     ]
    }
   ],
   "source": [
    "class treeNode:\n",
    "    def __init__(self, data, children = []):\n",
    "        self.data = data\n",
    "        self.children = children\n",
    "    \n",
    "    def __str__(self, level=0):\n",
    "        ret = \" \" * level + str(self.data) + \"\\n\"\n",
    "        for child in self.children:\n",
    "            ret += child.__str__(level+1)\n",
    "        return ret\n",
    "\n",
    "    def addChild(self, treeNode):\n",
    "        self.children.append(treeNode)\n",
    "\n",
    "tree = treeNode('Drinks', [])\n",
    "cold = treeNode('Cold', [])\n",
    "hot = treeNode('Hot', [])\n",
    "tree.addChild(cold)\n",
    "tree.addChild(hot)\n",
    "tea = treeNode('Tea', [])\n",
    "coffee = treeNode('Coffee', [])\n",
    "cola = treeNode('Cola', [])\n",
    "fanta = treeNode('Fanta', [])\n",
    "cold.addChild(cola)\n",
    "cold.addChild(fanta)\n",
    "hot.addChild(tea)\n",
    "hot.addChild(coffee)\n",
    "print(tree)"
   ]
  },
  {
   "cell_type": "markdown",
   "id": "89419f67",
   "metadata": {},
   "source": [
    "## [1] Binary Tree using Linked List"
   ]
  },
  {
   "cell_type": "code",
   "execution_count": 7,
   "id": "2672bc36",
   "metadata": {},
   "outputs": [
    {
     "name": "stdout",
     "output_type": "stream",
     "text": [
      "Drinks\n",
      "Hot\n",
      "Cold\n",
      "\n",
      "\n",
      "Hot\n",
      "Drinks\n",
      "Cold\n",
      "\n",
      "\n",
      "Hot\n",
      "Cold\n",
      "Drinks\n"
     ]
    }
   ],
   "source": [
    "class treeNode:\n",
    "    def __init__(self, data):\n",
    "        self.data = data\n",
    "        self.leftChild = None\n",
    "        self.rightChild = None\n",
    "    \n",
    "def preorderTraversal(rootNode):\n",
    "    if rootNode is None:\n",
    "        return\n",
    "    \n",
    "    else:\n",
    "        print(rootNode.data)\n",
    "        preorderTraversal(rootNode.leftChild)\n",
    "        preorderTraversal(rootNode.rightChild)\n",
    "\n",
    "def inorderTraversal(rootNode):\n",
    "    if rootNode is None:\n",
    "        return\n",
    "    \n",
    "    else:\n",
    "        preorderTraversal(rootNode.leftChild)\n",
    "        print(rootNode.data)\n",
    "        preorderTraversal(rootNode.rightChild)\n",
    "        \n",
    "def postorderTraversal(rootNode):\n",
    "    if rootNode is None:\n",
    "        return\n",
    "    \n",
    "    else:\n",
    "        preorderTraversal(rootNode.leftChild)\n",
    "        preorderTraversal(rootNode.rightChild)\n",
    "        print(rootNode.data)\n",
    "    \n",
    "newBT = treeNode(\"Drinks\")\n",
    "leftChild = treeNode(\"Hot\")\n",
    "rightChild = treeNode(\"Cold\")\n",
    "newBT.leftChild = leftChild\n",
    "newBT.rightChild = rightChild\n",
    "\n",
    "preorderTraversal(newBT)\n",
    "\n",
    "print('\\n')\n",
    "\n",
    "inorderTraversal(newBT)\n",
    "\n",
    "print('\\n')\n",
    "\n",
    "postorderTraversal(newBT)"
   ]
  },
  {
   "cell_type": "code",
   "execution_count": null,
   "id": "22845303",
   "metadata": {},
   "outputs": [],
   "source": []
  }
 ],
 "metadata": {
  "kernelspec": {
   "display_name": "Python 3 (ipykernel)",
   "language": "python",
   "name": "python3"
  },
  "language_info": {
   "codemirror_mode": {
    "name": "ipython",
    "version": 3
   },
   "file_extension": ".py",
   "mimetype": "text/x-python",
   "name": "python",
   "nbconvert_exporter": "python",
   "pygments_lexer": "ipython3",
   "version": "3.8.12"
  }
 },
 "nbformat": 4,
 "nbformat_minor": 5
}
