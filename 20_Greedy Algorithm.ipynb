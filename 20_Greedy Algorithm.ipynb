{
 "cells": [
  {
   "cell_type": "markdown",
   "id": "2a8e8a6b",
   "metadata": {},
   "source": [
    "# Greedy Algorithm\n",
    "\n",
    "## Activity Selection Problem in Python"
   ]
  },
  {
   "cell_type": "code",
   "execution_count": 1,
   "id": "a6878686",
   "metadata": {},
   "outputs": [
    {
     "name": "stdout",
     "output_type": "stream",
     "text": [
      "A3\n",
      "A2\n",
      "A5\n",
      "A6\n"
     ]
    }
   ],
   "source": [
    "def printMaxActivities(activities):\n",
    "    # sort the array using end time\n",
    "    activities.sort(key=lambda x:x[2])\n",
    "    i = 0\n",
    "    firstA = activities[i][0]\n",
    "    print(firstA)\n",
    "    for j in range(len(activities)):\n",
    "        # find the upcoming activity\n",
    "        if activities[j][1] > activities[i][2]:\n",
    "            print(activities[j][0])\n",
    "            i = j\n",
    "            \n",
    "activities = [[\"A1\", 0, 6],\n",
    "              [\"A2\", 3, 4],\n",
    "              [\"A3\", 1, 2],\n",
    "              [\"A4\", 5, 8],\n",
    "              [\"A5\", 5, 7],\n",
    "              [\"A6\", 8, 9]]            \n",
    "\n",
    "printMaxActivities(activities)\n",
    "        "
   ]
  },
  {
   "cell_type": "markdown",
   "id": "d223aab1",
   "metadata": {},
   "source": [
    "## Coin Change Problem in Python "
   ]
  },
  {
   "cell_type": "code",
   "execution_count": 3,
   "id": "c6253182",
   "metadata": {},
   "outputs": [
    {
     "name": "stdout",
     "output_type": "stream",
     "text": [
      "100\n",
      "100\n",
      "1\n"
     ]
    }
   ],
   "source": [
    "def coinChange(totalPrice, coins):\n",
    "    # [1] data processing\n",
    "    N = totalPrice\n",
    "    coins.sort()\n",
    "    \n",
    "    # [2] get the most expensive coins\n",
    "    index = len(coins)-1\n",
    "    while True:\n",
    "        coinValue = coins[index]\n",
    "        if N >= coinValue:\n",
    "            print(coinValue)\n",
    "            N = N - coinValue\n",
    "        if N < coinValue:\n",
    "            index -= 1\n",
    "            \n",
    "        if N == 0:\n",
    "            break\n",
    "            \n",
    "coins = [1, 2, 5, 20, 50, 100]\n",
    "coinChange(201, coins)"
   ]
  },
  {
   "cell_type": "markdown",
   "id": "3e3194c2",
   "metadata": {},
   "source": [
    "## Fractional Knapsack Problem"
   ]
  },
  {
   "cell_type": "code",
   "execution_count": 6,
   "id": "063ac1df",
   "metadata": {},
   "outputs": [
    {
     "name": "stdout",
     "output_type": "stream",
     "text": [
      "Total value obtained: 240.0\n"
     ]
    }
   ],
   "source": [
    "class Item:\n",
    "    def __init__(self, weight, value):\n",
    "        self.weight = weight\n",
    "        self.value = value\n",
    "        self.density = value/weight\n",
    "    \n",
    "def knapsackMethod(items, capacity):\n",
    "    items.sort(key=lambda x: x.density, reverse= True)\n",
    "    usedCapacity = 0\n",
    "    totalValue = 0\n",
    "\n",
    "    for i in items:\n",
    "        if usedCapacity + i.weight <= capacity:\n",
    "            usedCapacity += i.weight\n",
    "            totalValue += i.value\n",
    "        \n",
    "        else: # spare area is filled by cutting the box\n",
    "            unusedWeight = capacity - usedCapacity\n",
    "            value = i.density * unusedWeight\n",
    "            usedCapacity += unusedWeight\n",
    "            totalValue += value\n",
    "\n",
    "        if usedCapacity == capacity:\n",
    "            break\n",
    "\n",
    "    print(\"Total value obtained: \"+str(totalValue))\n",
    "                \n",
    "item1 = Item(20,100)\n",
    "item2 = Item(30,120)\n",
    "item3 = Item(10,60)\n",
    "cList = [item1, item2, item3]\n",
    "\n",
    "knapsackMethod(cList, 50)\n",
    "        "
   ]
  },
  {
   "cell_type": "code",
   "execution_count": null,
   "id": "6a200a12",
   "metadata": {},
   "outputs": [],
   "source": []
  }
 ],
 "metadata": {
  "kernelspec": {
   "display_name": "Python 3 (ipykernel)",
   "language": "python",
   "name": "python3"
  },
  "language_info": {
   "codemirror_mode": {
    "name": "ipython",
    "version": 3
   },
   "file_extension": ".py",
   "mimetype": "text/x-python",
   "name": "python",
   "nbconvert_exporter": "python",
   "pygments_lexer": "ipython3",
   "version": "3.8.12"
  }
 },
 "nbformat": 4,
 "nbformat_minor": 5
}
