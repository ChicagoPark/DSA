{
 "cells": [
  {
   "cell_type": "markdown",
   "id": "9b491d8a",
   "metadata": {},
   "source": [
    "# Recursive\n",
    "\n",
    "## Factorial"
   ]
  },
  {
   "cell_type": "code",
   "execution_count": 10,
   "id": "1ab7f691",
   "metadata": {},
   "outputs": [
    {
     "name": "stdout",
     "output_type": "stream",
     "text": [
      "120\n"
     ]
    }
   ],
   "source": [
    "def factorial(n):\n",
    "    assert n >=0 and int(n) == n, 'The number must be postitive integer only!'\n",
    "    if n == 1:\n",
    "        return 1\n",
    "    else:\n",
    "        return n* factorial(n-1)\n",
    "\n",
    "print(factorial(5))"
   ]
  },
  {
   "cell_type": "markdown",
   "id": "3a9044da",
   "metadata": {},
   "source": [
    "## Fibonacci numbers\n",
    "\n",
    "Step 1 - the flow\n",
    "\n",
    "f(n) = f(n-1) + f(n-2)"
   ]
  },
  {
   "cell_type": "code",
   "execution_count": 18,
   "id": "0426dbae",
   "metadata": {},
   "outputs": [
    {
     "name": "stdout",
     "output_type": "stream",
     "text": [
      "0 1 1 2 3 "
     ]
    }
   ],
   "source": [
    "def fibonacci(n):\n",
    "    assert n >= 0 and int(n) == n, 'Put the value which is bigger than one'\n",
    "    if n <= 1:\n",
    "        return n\n",
    "    else:\n",
    "        return fibonacci(n-1) + fibonacci(n-2)\n",
    "    \n",
    "for i in range(5):\n",
    "    print(fibonacci(i), end=' ')"
   ]
  },
  {
   "cell_type": "code",
   "execution_count": null,
   "id": "460e4e39",
   "metadata": {},
   "outputs": [],
   "source": []
  }
 ],
 "metadata": {
  "kernelspec": {
   "display_name": "Python 3 (ipykernel)",
   "language": "python",
   "name": "python3"
  },
  "language_info": {
   "codemirror_mode": {
    "name": "ipython",
    "version": 3
   },
   "file_extension": ".py",
   "mimetype": "text/x-python",
   "name": "python",
   "nbconvert_exporter": "python",
   "pygments_lexer": "ipython3",
   "version": "3.8.12"
  }
 },
 "nbformat": 4,
 "nbformat_minor": 5
}
