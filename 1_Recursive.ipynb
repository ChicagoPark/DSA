{
 "cells": [
  {
   "cell_type": "markdown",
   "id": "a1ac4be3",
   "metadata": {},
   "source": [
    "# Recursive\n",
    "\n",
    "## Factorial"
   ]
  },
  {
   "cell_type": "code",
   "execution_count": 10,
   "id": "1ab7f691",
   "metadata": {},
   "outputs": [
    {
     "name": "stdout",
     "output_type": "stream",
     "text": [
      "120\n"
     ]
    }
   ],
   "source": [
    "def factorial(n):\n",
    "    assert n >=0 and int(n) == n, 'The number must be postitive integer only!'\n",
    "    if n == 1:\n",
    "        return 1\n",
    "    else:\n",
    "        return n* factorial(n-1)\n",
    "\n",
    "print(factorial(5))"
   ]
  },
  {
   "cell_type": "markdown",
   "id": "c7c74920",
   "metadata": {},
   "source": [
    "## Fibonacci numbers\n",
    "\n",
    "0 1 1 2 3 5 8 ...\n",
    "\n",
    "Step 1 - the flow\n",
    "\n",
    "f(n) = f(n-1) + f(n-2)"
   ]
  },
  {
   "cell_type": "code",
   "execution_count": 18,
   "id": "2b8e1427",
   "metadata": {},
   "outputs": [
    {
     "name": "stdout",
     "output_type": "stream",
     "text": [
      "0 1 1 2 3 "
     ]
    }
   ],
   "source": [
    "def fibonacci(n):\n",
    "    assert n >= 0 and int(n) == n, 'Put the value which is bigger than one'\n",
    "    if n <= 1:\n",
    "        return n\n",
    "    else:\n",
    "        return fibonacci(n-1) + fibonacci(n-2)\n",
    "    \n",
    "for i in range(5):\n",
    "    print(fibonacci(i), end=' ')"
   ]
  },
  {
   "cell_type": "markdown",
   "id": "cf8a6736",
   "metadata": {},
   "source": [
    "## Interview Question - 1\n",
    "\n",
    "### How to find the sum of digits of positive integer number using recursion?\n",
    "\n",
    "10 = 1\n",
    "\n",
    "123 = 6"
   ]
  },
  {
   "cell_type": "code",
   "execution_count": 10,
   "id": "64304ab2",
   "metadata": {},
   "outputs": [],
   "source": [
    "def sumofDigits(n):\n",
    "    assert n >= 0 and int(n) == n, \"You need to pass the integers\"\n",
    "    if n < 1:\n",
    "        return 0\n",
    "    else:\n",
    "        return n%10 + sumofDigits(n//10)\n"
   ]
  },
  {
   "cell_type": "code",
   "execution_count": 11,
   "id": "0bd8a45d",
   "metadata": {},
   "outputs": [
    {
     "name": "stdout",
     "output_type": "stream",
     "text": [
      "1\n"
     ]
    }
   ],
   "source": [
    "print(sumofDigits(10))"
   ]
  },
  {
   "cell_type": "code",
   "execution_count": null,
   "id": "1c031d99",
   "metadata": {},
   "outputs": [],
   "source": []
  },
  {
   "cell_type": "code",
   "execution_count": null,
   "id": "835a0ec3",
   "metadata": {},
   "outputs": [],
   "source": []
  }
 ],
 "metadata": {
  "kernelspec": {
   "display_name": "Python 3 (ipykernel)",
   "language": "python",
   "name": "python3"
  },
  "language_info": {
   "codemirror_mode": {
    "name": "ipython",
    "version": 3
   },
   "file_extension": ".py",
   "mimetype": "text/x-python",
   "name": "python",
   "nbconvert_exporter": "python",
   "pygments_lexer": "ipython3",
   "version": "3.8.12"
  }
 },
 "nbformat": 4,
 "nbformat_minor": 5
}
