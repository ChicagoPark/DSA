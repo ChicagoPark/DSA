{
 "cells": [
  {
   "cell_type": "markdown",
   "id": "08b5ff8d",
   "metadata": {},
   "source": [
    "# Dictionary"
   ]
  },
  {
   "cell_type": "code",
   "execution_count": 1,
   "id": "47e2490d",
   "metadata": {},
   "outputs": [
    {
     "name": "stdout",
     "output_type": "stream",
     "text": [
      "{0: 'Hi', 1: 'Bye'}\n"
     ]
    }
   ],
   "source": [
    "first_dict = {0:'Hi', 1:'Bye'}\n",
    "\n",
    "print(first_dict)"
   ]
  },
  {
   "cell_type": "markdown",
   "id": "6f0e4fbc",
   "metadata": {},
   "source": [
    "## Update / add an element to the dictionary"
   ]
  },
  {
   "cell_type": "code",
   "execution_count": 2,
   "id": "16970c96",
   "metadata": {},
   "outputs": [
    {
     "name": "stdout",
     "output_type": "stream",
     "text": [
      "Hi\n"
     ]
    }
   ],
   "source": [
    "print(first_dict[0])"
   ]
  },
  {
   "cell_type": "code",
   "execution_count": 8,
   "id": "7382c823",
   "metadata": {},
   "outputs": [
    {
     "name": "stdout",
     "output_type": "stream",
     "text": [
      "{'name': 'Edy', 'age': 26}\n",
      "{'name': 'Edy', 'age': 26, 'address': 'London'}\n"
     ]
    }
   ],
   "source": [
    "myDict = {'name':'Edy', 'age':26}\n",
    "print(myDict)\n",
    "\n",
    "# add one element\n",
    "myDict['address'] = 'London'\n",
    "print(myDict)"
   ]
  },
  {
   "cell_type": "markdown",
   "id": "f3ebc298",
   "metadata": {},
   "source": [
    "## Traverse the dictionary"
   ]
  },
  {
   "cell_type": "markdown",
   "id": "e5185111",
   "metadata": {},
   "source": [
    "#### myDict = {'name':'Edy', 'age':26, 'address':'London'}\n",
    "\n",
    "def traverseDict(dict):\n",
    "    for key in dict:\n",
    "        print(key, dict[key])\n",
    "traverseDict(myDict)\n",
    "        "
   ]
  },
  {
   "cell_type": "markdown",
   "id": "b85baf69",
   "metadata": {},
   "source": [
    "## Fine the value in the given dictionary"
   ]
  },
  {
   "cell_type": "code",
   "execution_count": 14,
   "id": "67aa85f4",
   "metadata": {},
   "outputs": [
    {
     "name": "stdout",
     "output_type": "stream",
     "text": [
      "('age', 26)\n",
      "The value does not exist\n"
     ]
    }
   ],
   "source": [
    "myDict = {'name':'Edy', 'age':26, 'address':'London'}\n",
    "\n",
    "def searchDict(dict, value):\n",
    "    for key in dict:\n",
    "        if dict[key] == value:\n",
    "            return key, value\n",
    "    return 'The value does not exist'\n",
    "\n",
    "print(searchDict(myDict, 26))\n",
    "print(searchDict(myDict, 27))"
   ]
  },
  {
   "cell_type": "markdown",
   "id": "2c295c37",
   "metadata": {},
   "source": [
    "## Delete and remove"
   ]
  },
  {
   "cell_type": "code",
   "execution_count": 42,
   "id": "f787dab3",
   "metadata": {},
   "outputs": [
    {
     "name": "stdout",
     "output_type": "stream",
     "text": [
      "1. pop method\n",
      "Edy\n",
      "{'age': 26, 'address': 'London', 'education': 'master'}\n",
      "2. popitem method\n",
      "('education', 'master')\n",
      "{'age': 26, 'address': 'London'}\n",
      "3. del method\n",
      "{'address': 'London'}\n",
      "4. clear method\n",
      "{}\n"
     ]
    }
   ],
   "source": [
    "# pop\n",
    "myDict = {'name':'Edy', 'age':26, 'address':'London', 'education':'master'}\n",
    "print('1. pop method')\n",
    "print(myDict.pop('name'))\n",
    "print(myDict)\n",
    "\n",
    "# popitem\n",
    "print('2. popitem method')\n",
    "print(myDict.popitem())\n",
    "print(myDict)\n",
    "\n",
    "# del\n",
    "print('3. del method')\n",
    "del myDict['age']\n",
    "print(myDict)\n",
    "\n",
    "# clear method\n",
    "print('4. clear method')\n",
    "myDict.clear()\n",
    "print(myDict)"
   ]
  },
  {
   "cell_type": "markdown",
   "id": "b8509164",
   "metadata": {},
   "source": [
    "## Various functions of dictionary"
   ]
  },
  {
   "cell_type": "code",
   "execution_count": 51,
   "id": "2a22d6d5",
   "metadata": {},
   "outputs": [
    {
     "name": "stdout",
     "output_type": "stream",
     "text": [
      "\n",
      "----1. Copy----\n",
      "\n",
      "{'name': 'Edy', 'age': 26, 'address': 'London', 'education': 'master'}\n",
      "{'name': 'Edy', 'age': 26, 'address': 'London', 'education': 'master'}\n",
      "\n",
      "----2. fromkeys----\n",
      "\n",
      "{1: [0, 2, 3], 2: [0, 2, 3], 3: [0, 2, 3], 4: [0, 2, 3]}\n",
      "\n",
      "----3. get----\n",
      "\n",
      "26\n",
      "{'name': 'Edy', 'age': 26, 'address': 'London', 'education': 'master'}\n",
      "\n",
      "----4. items----\n",
      "\n",
      "dict_items([('name', 'Edy'), ('age', 26), ('address', 'London'), ('education', 'master')])\n",
      "\n",
      "----5. keys----\n",
      "\n",
      "dict_keys(['name', 'age', 'address', 'education'])\n",
      "\n",
      "----6. setdefault() ----\n",
      "\n",
      "added\n",
      "\n",
      "----6. setdefault() ----\n",
      "\n",
      "{'name': 'Edy', 'age': 26, 'address': 'London', 'education': 'master', 'a': 1, 'b': 2, 'c': 3}\n"
     ]
    }
   ],
   "source": [
    "# 1. Copy\n",
    "print(\"\\n----1. Copy----\\n\")\n",
    "\n",
    "myDict = {'name':'Edy', 'age':26, 'address':'London', 'education':'master'}\n",
    "\n",
    "secondDict = myDict.copy()\n",
    "thirdDict = myDict\n",
    "print(myDict)\n",
    "print(secondDict)\n",
    "\n",
    "# 2. fromkeys(key list, alue) \n",
    "print(\"\\n----2. fromkeys----\\n\")\n",
    "newDict = {}.fromkeys([1,2,3,4], [0,2,3])  # all the keys have the identical list\n",
    "print(newDict)\n",
    "\n",
    "# 3. get(key, value)\n",
    "print(\"\\n----3. get----\\n\")\n",
    "myDict = {'name':'Edy', 'age':26, 'address':'London', 'education':'master'}\n",
    "print(myDict.get('city', 26)) # if there is a key in the dictionary it would print the value of that, but if there is no corresponding key, it print the second argument\n",
    "print(myDict)\n",
    "\n",
    "# 4. items()\n",
    "print(\"\\n----4. items----\\n\")\n",
    "print(myDict.items())\n",
    "\n",
    "print(\"\\n----5. keys----\\n\")\n",
    "print(myDict.keys())\n",
    "\n",
    "# 5. setdefault() # If there is no first argument in dictionary, it put the first and second arguments as an element\n",
    "print(\"\\n----6. setdefault() ----\\n\")\n",
    "print(myDict.setdefault('name1', 'added'))\n",
    "\n",
    "# 6. upate(Another_Dictionary)\n",
    "print(\"\\n----6. setdefault() ----\\n\")\n",
    "\n",
    "myDict = {'name':'Edy', 'age':26, 'address':'London', 'education':'master'}\n",
    "newDict = {'a':1, 'b':2, 'c':3}\n",
    "myDict.update(newDict)\n",
    "print(myDict)"
   ]
  },
  {
   "cell_type": "markdown",
   "id": "4ae4d730",
   "metadata": {},
   "source": [
    "## function"
   ]
  },
  {
   "cell_type": "code",
   "execution_count": 56,
   "id": "c1691632",
   "metadata": {},
   "outputs": [
    {
     "name": "stdout",
     "output_type": "stream",
     "text": [
      "{'name': 'Edy', 'age': 26, 'address': 'London', 'education': 'master'}\n",
      "['address', 'age', 'education', 'name']\n"
     ]
    }
   ],
   "source": [
    "myDict = {'name':'Edy', 'age':26, 'address':'London', 'education':'master'}\n",
    "newDict = sorted(myDict, reverse=False)\n",
    "print(myDict)\n",
    "print(newDict)"
   ]
  },
  {
   "cell_type": "code",
   "execution_count": null,
   "id": "0f4e67ed",
   "metadata": {},
   "outputs": [],
   "source": []
  },
  {
   "cell_type": "code",
   "execution_count": null,
   "id": "c99f84bb",
   "metadata": {},
   "outputs": [],
   "source": []
  }
 ],
 "metadata": {
  "kernelspec": {
   "display_name": "Python 3 (ipykernel)",
   "language": "python",
   "name": "python3"
  },
  "language_info": {
   "codemirror_mode": {
    "name": "ipython",
    "version": 3
   },
   "file_extension": ".py",
   "mimetype": "text/x-python",
   "name": "python",
   "nbconvert_exporter": "python",
   "pygments_lexer": "ipython3",
   "version": "3.8.12"
  }
 },
 "nbformat": 4,
 "nbformat_minor": 5
}
