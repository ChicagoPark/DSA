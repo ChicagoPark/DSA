{
 "cells": [
  {
   "cell_type": "markdown",
   "id": "66146fc9",
   "metadata": {},
   "source": [
    "# Queue"
   ]
  },
  {
   "cell_type": "code",
   "execution_count": 9,
   "id": "6a013b32",
   "metadata": {},
   "outputs": [
    {
     "name": "stdout",
     "output_type": "stream",
     "text": [
      "----1. Check the emptiness----\n",
      "True\n",
      "----2. Enqueue----\n",
      "1 2 3\n",
      "----3. Dequeue----\n",
      "1\n",
      "2 3\n",
      "----4. Peek----\n",
      "2\n",
      "----5. Delete----\n"
     ]
    }
   ],
   "source": [
    "class Queue:\n",
    "    def __init__(self):\n",
    "        self.items = []\n",
    "    \n",
    "    def __str__(self):\n",
    "        values = [str(x) for x in self.items]\n",
    "        return ' '.join(values)\n",
    "    \n",
    "    def isEmpty(self):\n",
    "        if len(self.items) == 0:\n",
    "            return True\n",
    "        else:\n",
    "            return False\n",
    "        \n",
    "    def enqueue(self, value):\n",
    "        self.items.append(value)\n",
    "        return \"The element is inserted at the end of Queue\"\n",
    "        \n",
    "    def dequeue(self):\n",
    "        if self.isEmpty() is True:\n",
    "            return \"Thre is no element in the Queue\"\n",
    "        else:\n",
    "            return self.items.pop(0)\n",
    "        \n",
    "    def peek(self):\n",
    "        if self.isEmpty() is True:\n",
    "            return \"Thre is no element in the Queue\"\n",
    "        else:\n",
    "            return self.items[0]\n",
    "    def delete(self):\n",
    "        self.items = None\n",
    "\n",
    "customQueue = Queue()\n",
    "print(\"----1. Check the emptiness----\")\n",
    "print(customQueue.isEmpty())\n",
    "print(\"----2. Enqueue----\")\n",
    "customQueue.enqueue(1)\n",
    "customQueue.enqueue(2)\n",
    "customQueue.enqueue(3)\n",
    "print(customQueue)\n",
    "\n",
    "print(\"----3. Dequeue----\")\n",
    "print(customQueue.dequeue())\n",
    "print(customQueue)\n",
    "\n",
    "print(\"----4. Peek----\")\n",
    "print(customQueue.peek())\n",
    "\n",
    "print(\"----5. Delete----\")\n",
    "customQueue.delete()"
   ]
  },
  {
   "cell_type": "markdown",
   "id": "e6ee46ff",
   "metadata": {},
   "source": [
    "## [1] Circular Queue"
   ]
  },
  {
   "cell_type": "code",
   "execution_count": 1,
   "id": "4dabc0ae",
   "metadata": {},
   "outputs": [],
   "source": [
    "class Queue:\n",
    "    def __init__(self, maxSize):\n",
    "        self.items = maxSize*[None]\n",
    "        self.maxSize = maxSize\n",
    "        self.start = -1\n",
    "        self.top = -1\n",
    "        \n",
    "    def __str__(self):\n",
    "        values = [str(x) for x in self.items]\n",
    "        return ' '.join(values)\n",
    "    \n",
    "    def isFull(self):\n",
    "        if self.top + 1 == self.start: # in the case when start index is bigger than top index\n",
    "            return True\n",
    "        elif self.start == 0 and self.top == self.maxSize-1:\n",
    "            return True\n",
    "        else:\n",
    "            return False\n",
    "    \n",
    "    def isEmpty(self):\n",
    "        if self.top == -1:\n",
    "            return True\n",
    "        else:\n",
    "            return False\n",
    "        \n",
    "    def enqueue(self, value):\n",
    "        if self.isFull == True:\n",
    "            return \"The queue is full\"\n",
    "        else:\n",
    "            self.items[top-1] = value\n",
    "            "
   ]
  },
  {
   "cell_type": "code",
   "execution_count": null,
   "id": "70f24bfa",
   "metadata": {},
   "outputs": [],
   "source": []
  }
 ],
 "metadata": {
  "kernelspec": {
   "display_name": "Python 3 (ipykernel)",
   "language": "python",
   "name": "python3"
  },
  "language_info": {
   "codemirror_mode": {
    "name": "ipython",
    "version": 3
   },
   "file_extension": ".py",
   "mimetype": "text/x-python",
   "name": "python",
   "nbconvert_exporter": "python",
   "pygments_lexer": "ipython3",
   "version": "3.8.12"
  }
 },
 "nbformat": 4,
 "nbformat_minor": 5
}
