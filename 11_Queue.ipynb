{
 "cells": [
  {
   "cell_type": "markdown",
   "id": "66146fc9",
   "metadata": {},
   "source": [
    "# Queue"
   ]
  },
  {
   "cell_type": "code",
   "execution_count": 9,
   "id": "6a013b32",
   "metadata": {},
   "outputs": [
    {
     "name": "stdout",
     "output_type": "stream",
     "text": [
      "----1. Check the emptiness----\n",
      "True\n",
      "----2. Enqueue----\n",
      "1 2 3\n",
      "----3. Dequeue----\n",
      "1\n",
      "2 3\n",
      "----4. Peek----\n",
      "2\n",
      "----5. Delete----\n"
     ]
    }
   ],
   "source": [
    "class Queue:\n",
    "    def __init__(self):\n",
    "        self.items = []\n",
    "    \n",
    "    def __str__(self):\n",
    "        values = [str(x) for x in self.items]\n",
    "        return ' '.join(values)\n",
    "    \n",
    "    def isEmpty(self):\n",
    "        if len(self.items) == 0:\n",
    "            return True\n",
    "        else:\n",
    "            return False\n",
    "        \n",
    "    def enqueue(self, value):\n",
    "        self.items.append(value)\n",
    "        return \"The element is inserted at the end of Queue\"\n",
    "        \n",
    "    def dequeue(self):\n",
    "        if self.isEmpty() is True:\n",
    "            return \"Thre is no element in the Queue\"\n",
    "        else:\n",
    "            return self.items.pop(0)\n",
    "        \n",
    "    def peek(self):\n",
    "        if self.isEmpty() is True:\n",
    "            return \"Thre is no element in the Queue\"\n",
    "        else:\n",
    "            return self.items[0]\n",
    "    def delete(self):\n",
    "        self.items = None\n",
    "\n",
    "customQueue = Queue()\n",
    "print(\"----1. Check the emptiness----\")\n",
    "print(customQueue.isEmpty())\n",
    "print(\"----2. Enqueue----\")\n",
    "customQueue.enqueue(1)\n",
    "customQueue.enqueue(2)\n",
    "customQueue.enqueue(3)\n",
    "print(customQueue)\n",
    "\n",
    "print(\"----3. Dequeue----\")\n",
    "print(customQueue.dequeue())\n",
    "print(customQueue)\n",
    "\n",
    "print(\"----4. Peek----\")\n",
    "print(customQueue.peek())\n",
    "\n",
    "print(\"----5. Delete----\")\n",
    "customQueue.delete()"
   ]
  },
  {
   "cell_type": "markdown",
   "id": "e6ee46ff",
   "metadata": {},
   "source": [
    "## [1] Circular Queue"
   ]
  },
  {
   "cell_type": "code",
   "execution_count": 39,
   "id": "4dabc0ae",
   "metadata": {},
   "outputs": [
    {
     "name": "stdout",
     "output_type": "stream",
     "text": [
      "----1. Enqueue----\n",
      "1 2 3\n",
      "True\n",
      "----2. Dequeue----\n",
      "1\n",
      "None 2 3\n",
      "----3. Delete----\n",
      "None None None\n"
     ]
    }
   ],
   "source": [
    "class Queue:\n",
    "    def __init__(self, maxSize):\n",
    "        self.items = maxSize*[None]\n",
    "        self.maxSize = maxSize\n",
    "        self.start = -1\n",
    "        self.top = -1\n",
    "        \n",
    "    def __str__(self):\n",
    "        values = [str(x) for x in self.items]\n",
    "        return ' '.join(values)\n",
    "    \n",
    "    def isFull(self):\n",
    "        if self.top + 1 == self.start: # in the case when start index is bigger than top index\n",
    "            return True\n",
    "        elif self.start == 0 and self.top == self.maxSize-1:\n",
    "            return True\n",
    "        else:\n",
    "            return False\n",
    "    \n",
    "    def isEmpty(self):\n",
    "        if self.top == -1:\n",
    "            return True\n",
    "        else:\n",
    "            return False\n",
    "        \n",
    "    def enqueue(self, value):\n",
    "        if self.isFull() == True:\n",
    "            return \"The queue is full\"\n",
    "        else:\n",
    "            if self.top + 1 == self.maxSize: # when self.top points the tip part\n",
    "                self.top = 0\n",
    "            else:\n",
    "                self.top += 1\n",
    "                if self.start == -1:\n",
    "                    self.start = 0\n",
    "            self.items[self.top] = value\n",
    "            return \"The element is inserted at the end of Queue\"\n",
    "    \n",
    "    def dequeue(self):\n",
    "        if self.isEmpty() == True:\n",
    "            return \"The queue is empty\"\n",
    "        else:\n",
    "            firstElement = self.items[self.start]\n",
    "            start = self.start\n",
    "            if self.start == self.top:\n",
    "                self.start = -1\n",
    "                self.top = -1\n",
    "            elif self.start + 1 == self.maxSize:\n",
    "                self.start = 0\n",
    "            else:\n",
    "                self.start += 1\n",
    "            self.items[start] = None\n",
    "            return firstElement\n",
    "    \n",
    "    def peek(self):\n",
    "        if self.isEmpty():\n",
    "            return \"Queue is empty\"\n",
    "        else:\n",
    "            return self.items[self.start]\n",
    "    \n",
    "    def delete(self):\n",
    "        self.items = self.maxSize * [None]\n",
    "        self.top = -1\n",
    "        self.start = -1\n",
    "\n",
    "customQueue = Queue(3)\n",
    "print(\"----1. Enqueue----\")\n",
    "customQueue.enqueue(1)\n",
    "customQueue.enqueue(2)\n",
    "customQueue.enqueue(3)\n",
    "print(customQueue)\n",
    "print(customQueue.isFull())\n",
    "\n",
    "print(\"----2. Dequeue----\")\n",
    "print(customQueue.dequeue())\n",
    "print(customQueue)\n",
    "\n",
    "print(\"----3. Delete----\")\n",
    "customQueue.delete()\n",
    "print(customQueue)"
   ]
  },
  {
   "cell_type": "markdown",
   "id": "ffeb7fd0",
   "metadata": {},
   "source": [
    "## [2] Queue using linked list"
   ]
  },
  {
   "cell_type": "code",
   "execution_count": 7,
   "id": "7ade9401",
   "metadata": {},
   "outputs": [
    {
     "name": "stdout",
     "output_type": "stream",
     "text": [
      "----1. enqueue----\n",
      "1 2 3\n",
      "----2. dequeue----\n",
      "1\n",
      "2 3\n",
      "2\n"
     ]
    }
   ],
   "source": [
    "class Node:\n",
    "    def __init__(self, value=None):\n",
    "        self.value = value\n",
    "        self.next  = None\n",
    "    def __str__(self):\n",
    "        return str(self.value)\n",
    "\n",
    "class LinkedList:\n",
    "    def __init__(self):\n",
    "        self.head = None\n",
    "        self.tail = None\n",
    "    def __iter__(self):\n",
    "        node = self.head\n",
    "        while node != None:\n",
    "            yield node\n",
    "            node = node.next\n",
    "class Queue:\n",
    "    def __init__(self):\n",
    "        self.linkedList = LinkedList()\n",
    "    \n",
    "    def __str__(self):\n",
    "        values = [str(x) for x in self.linkedList]\n",
    "        return ' '.join(values)\n",
    "    \n",
    "    def enqueue(self, value):\n",
    "        newNode = Node(value)\n",
    "        if self.linkedList.head == None:\n",
    "            self.linkedList.head = newNode\n",
    "            self.linkedList.tail = newNode\n",
    "        else:\n",
    "            self.linkedList.tail.next = newNode\n",
    "            self.linkedList.tail = newNode\n",
    "    \n",
    "    def isEmpty(self):\n",
    "        if self.linkedList.head == None:\n",
    "            return True\n",
    "        else:\n",
    "            return False\n",
    "    \n",
    "    def dequeue(self):\n",
    "        if self.isEmpty() == True:\n",
    "            return \"There is not any node in the Queue\"\n",
    "        else:\n",
    "            tempNode = self.linkedList.head\n",
    "            if self.linkedList.head == self.linkedList.tail:\n",
    "                self.linkedList.head = None\n",
    "                self.linkedList.tail = None\n",
    "            else:    \n",
    "                self.linkedList.head = self.linkedList.head.next\n",
    "            return tempNode\n",
    "                \n",
    "    \n",
    "    def peek(self):\n",
    "        if self.isEmpty() == True:\n",
    "            return \"There is not any node in the Queue\"\n",
    "        else:\n",
    "            return self.linkedList.head.value\n",
    "        \n",
    "    def delete(self):\n",
    "        if self.isEmpty() == True:\n",
    "            return \"There is not any node in the Queue\"\n",
    "        else:\n",
    "            self.linkedList.head = None\n",
    "            self.linkedList.tail = None\n",
    "    \n",
    "        \n",
    "custQueue = Queue()\n",
    "\n",
    "print(\"----1. enqueue----\")\n",
    "custQueue.enqueue(1)\n",
    "custQueue.enqueue(2)\n",
    "custQueue.enqueue(3)\n",
    "print(custQueue)\n",
    "\n",
    "print(\"----2. dequeue----\")\n",
    "print(custQueue.dequeue())\n",
    "print(custQueue)\n",
    "\n",
    "print(\"----3. peek----\")\n",
    "print(custQueue.peek())\n",
    "\n",
    "print(\"----4. delete----\")\n",
    "print(custQueue.delete())"
   ]
  },
  {
   "cell_type": "markdown",
   "id": "6f438683",
   "metadata": {},
   "source": [
    "## Python deque Modules"
   ]
  },
  {
   "cell_type": "code",
   "execution_count": 16,
   "id": "22ae7030",
   "metadata": {},
   "outputs": [
    {
     "name": "stdout",
     "output_type": "stream",
     "text": [
      "deque([], maxlen=3)\n",
      "deque([2, 3, 4], maxlen=3)\n",
      "2\n",
      "deque([3, 4], maxlen=3)\n",
      "None\n",
      "deque([], maxlen=3)\n"
     ]
    }
   ],
   "source": [
    "from collections import deque\n",
    "\n",
    "customQueue = deque(maxlen=3)\n",
    "print(customQueue)\n",
    "\n",
    "customQueue.append(1)\n",
    "customQueue.append(2)\n",
    "customQueue.append(3)\n",
    "customQueue.append(4)\n",
    "print(customQueue)\n",
    "\n",
    "print(customQueue.popleft())\n",
    "\n",
    "print(customQueue)\n",
    "\n",
    "print(customQueue.clear())\n",
    "\n",
    "print(customQueue)"
   ]
  },
  {
   "cell_type": "markdown",
   "id": "0c990904",
   "metadata": {},
   "source": [
    "## Python Queue Modules"
   ]
  },
  {
   "cell_type": "code",
   "execution_count": 30,
   "id": "64fb30c0",
   "metadata": {},
   "outputs": [
    {
     "name": "stdout",
     "output_type": "stream",
     "text": [
      "True\n",
      "True\n",
      "1\n",
      "2\n"
     ]
    }
   ],
   "source": [
    "import queue as q\n",
    "\n",
    "customQueue = q.Queue(maxsize=3)\n",
    "print(customQueue.empty())\n",
    "customQueue.put(1)\n",
    "customQueue.put(2)\n",
    "customQueue.put(3)\n",
    "print(customQueue.full())\n",
    "print(customQueue.get())\n",
    "print(customQueue.qsize())"
   ]
  },
  {
   "cell_type": "markdown",
   "id": "d0510853",
   "metadata": {},
   "source": [
    "## Multiprocessing Module"
   ]
  },
  {
   "cell_type": "code",
   "execution_count": null,
   "id": "b5d35d8c",
   "metadata": {},
   "outputs": [],
   "source": [
    "from multiprocessing import Queue\n"
   ]
  }
 ],
 "metadata": {
  "kernelspec": {
   "display_name": "Python 3 (ipykernel)",
   "language": "python",
   "name": "python3"
  },
  "language_info": {
   "codemirror_mode": {
    "name": "ipython",
    "version": 3
   },
   "file_extension": ".py",
   "mimetype": "text/x-python",
   "name": "python",
   "nbconvert_exporter": "python",
   "pygments_lexer": "ipython3",
   "version": "3.8.12"
  }
 },
 "nbformat": 4,
 "nbformat_minor": 5
}
