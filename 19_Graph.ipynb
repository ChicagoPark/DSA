{
 "cells": [
  {
   "cell_type": "markdown",
   "id": "9a1e7cd2",
   "metadata": {},
   "source": [
    "# Graph "
   ]
  },
  {
   "cell_type": "code",
   "execution_count": 5,
   "id": "1ede917c",
   "metadata": {},
   "outputs": [
    {
     "name": "stdout",
     "output_type": "stream",
     "text": [
      "{'a': ['b', 'c'], 'b': ['a', 'd', 'e'], 'c': ['a', 'e', 'z'], 'd': ['b', 'e', 'f'], 'e': ['d', 'f'], 'f': ['d', 'e']}\n"
     ]
    }
   ],
   "source": [
    "class Graph:\n",
    "    def __init__(self, gdict=None):\n",
    "        if gdict is None:\n",
    "            gdict = {}\n",
    "        self.gdict = gdict\n",
    "    \n",
    "    def addEdge(self, vertex, edge):\n",
    "        self.gdict[vertex].append(edge)\n",
    "customDict = {\"a\": ['b','c'],\n",
    "             \"b\": ['a','d','e'],\n",
    "             \"c\": ['a','e'],\n",
    "             \"d\": ['b','e','f'],\n",
    "             \"e\": ['d','f'],\n",
    "             \"f\": ['d','e']}\n",
    "graph = Graph(customDict)\n",
    "graph.addEdge('c', 'z')\n",
    "print(graph.gdict)"
   ]
  },
  {
   "cell_type": "markdown",
   "id": "6db5ecd0",
   "metadata": {},
   "source": [
    "## Breadth First Search(BFS)"
   ]
  },
  {
   "cell_type": "code",
   "execution_count": 11,
   "id": "8474b6f0",
   "metadata": {},
   "outputs": [
    {
     "name": "stdout",
     "output_type": "stream",
     "text": [
      "a\n",
      "b\n",
      "c\n",
      "d\n",
      "e\n",
      "f\n",
      "----\n",
      "a\n",
      "c\n",
      "e\n",
      "f\n",
      "d\n",
      "b\n"
     ]
    }
   ],
   "source": [
    "class Graph:\n",
    "    def __init__(self, gdict=None):\n",
    "        if gdict is None:\n",
    "            gdict = {}\n",
    "        self.gdict = gdict\n",
    "    def addEdge(self, vertex, edge):\n",
    "        self.gdict[vertex].append(edge)\n",
    "        \n",
    "    def bfs(self, vertex):\n",
    "        # vertex means the beginning node\n",
    "        visited = [vertex]\n",
    "        queue = [vertex]\n",
    "        while queue:\n",
    "            deVertex = queue.pop(0)\n",
    "            print(deVertex)\n",
    "            for adjacentVertex in self.gdict[deVertex]:\n",
    "                if adjacentVertex not in visited:\n",
    "                    visited.append(adjacentVertex)\n",
    "                    queue.append(adjacentVertex)\n",
    "    \n",
    "    def dfs(self, vertex):\n",
    "        visited = [vertex]\n",
    "        stack = [vertex]\n",
    "        while stack:\n",
    "            deVertex = stack.pop()\n",
    "            print(deVertex)\n",
    "            for adjacentVertex in self.gdict[deVertex]:\n",
    "                if adjacentVertex not in visited:\n",
    "                    visited.append(adjacentVertex)\n",
    "                    stack.append(adjacentVertex)\n",
    "\n",
    "customDict = {\"a\": ['b','c'],\n",
    "             \"b\": ['a','d','e'],\n",
    "             \"c\": ['a','e'],\n",
    "             \"d\": ['b','e','f'],\n",
    "             \"e\": ['d','f'],\n",
    "             \"f\": ['d','e']}                   \n",
    "graph = Graph(customDict)\n",
    "graph.bfs(\"a\")\n",
    "print(\"----\")\n",
    "graph.dfs(\"a\")\n"
   ]
  },
  {
   "cell_type": "markdown",
   "id": "37edfb13",
   "metadata": {},
   "source": [
    "## Topological Sort"
   ]
  },
  {
   "cell_type": "code",
   "execution_count": 16,
   "id": "ae64d4fa",
   "metadata": {},
   "outputs": [
    {
     "name": "stdout",
     "output_type": "stream",
     "text": [
      "['B', 'D', 'A', 'C', 'E', 'F', 'G', 'H']\n"
     ]
    }
   ],
   "source": [
    "from collections import defaultdict\n",
    "\n",
    "class Graph:\n",
    "    def __init__(self, numberofVertices):\n",
    "        self.graph = defaultdict(list)\n",
    "        self.numberofVertices = numberofVertices\n",
    "    \n",
    "    def addEdge(self, vertex, edge):\n",
    "        self.graph[vertex].append(edge)\n",
    "    \n",
    "    def topologicalSortUtil(self, v, visited, stack):\n",
    "        visited.append(v)\n",
    "        \n",
    "        # loop the dependent node of v node\n",
    "        for i in self.graph[v]:\n",
    "            if i not in visited:\n",
    "                self.topologicalSortUtil(i, visited, stack)\n",
    "                \n",
    "        stack.insert(0,v)\n",
    "    \n",
    "    def topologicalSort(self):\n",
    "        visited = []\n",
    "        stack = []\n",
    "        \n",
    "        # loop all the graph node\n",
    "        for k in list(self.graph):\n",
    "            if k not in visited:\n",
    "                self.topologicalSortUtil(k, visited, stack)\n",
    "        \n",
    "        print(stack)\n",
    "    \n",
    "    \n",
    "customGraph = Graph(8)\n",
    "customGraph.addEdge(\"A\",\"C\")\n",
    "customGraph.addEdge(\"C\",\"E\")\n",
    "customGraph.addEdge(\"E\",\"H\")\n",
    "customGraph.addEdge(\"E\",\"F\")\n",
    "customGraph.addEdge(\"F\",\"G\")\n",
    "customGraph.addEdge(\"B\",\"D\")\n",
    "customGraph.addEdge(\"B\",\"C\")\n",
    "customGraph.addEdge(\"D\",\"F\")\n",
    "\n",
    "customGraph.topologicalSort()"
   ]
  },
  {
   "cell_type": "code",
   "execution_count": null,
   "id": "6a6a7634",
   "metadata": {},
   "outputs": [],
   "source": []
  }
 ],
 "metadata": {
  "kernelspec": {
   "display_name": "Python 3 (ipykernel)",
   "language": "python",
   "name": "python3"
  },
  "language_info": {
   "codemirror_mode": {
    "name": "ipython",
    "version": 3
   },
   "file_extension": ".py",
   "mimetype": "text/x-python",
   "name": "python",
   "nbconvert_exporter": "python",
   "pygments_lexer": "ipython3",
   "version": "3.8.12"
  }
 },
 "nbformat": 4,
 "nbformat_minor": 5
}
