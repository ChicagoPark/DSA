{
 "cells": [
  {
   "cell_type": "markdown",
   "id": "9a1e7cd2",
   "metadata": {},
   "source": [
    "# Graph "
   ]
  },
  {
   "cell_type": "code",
   "execution_count": 5,
   "id": "1ede917c",
   "metadata": {},
   "outputs": [
    {
     "name": "stdout",
     "output_type": "stream",
     "text": [
      "{'a': ['b', 'c'], 'b': ['a', 'd', 'e'], 'c': ['a', 'e', 'z'], 'd': ['b', 'e', 'f'], 'e': ['d', 'f'], 'f': ['d', 'e']}\n"
     ]
    }
   ],
   "source": [
    "class Graph:\n",
    "    def __init__(self, gdict=None):\n",
    "        if gdict is None:\n",
    "            gdict = {}\n",
    "        self.gdict = gdict\n",
    "    \n",
    "    def addEdge(self, vertex, edge):\n",
    "        self.gdict[vertex].append(edge)\n",
    "customDict = {\"a\": ['b','c'],\n",
    "             \"b\": ['a','d','e'],\n",
    "             \"c\": ['a','e'],\n",
    "             \"d\": ['b','e','f'],\n",
    "             \"e\": ['d','f'],\n",
    "             \"f\": ['d','e']}\n",
    "graph = Graph(customDict)\n",
    "graph.addEdge('c', 'z')\n",
    "print(graph.gdict)"
   ]
  },
  {
   "cell_type": "code",
   "execution_count": null,
   "id": "b3794ff2",
   "metadata": {},
   "outputs": [],
   "source": []
  }
 ],
 "metadata": {
  "kernelspec": {
   "display_name": "Python 3 (ipykernel)",
   "language": "python",
   "name": "python3"
  },
  "language_info": {
   "codemirror_mode": {
    "name": "ipython",
    "version": 3
   },
   "file_extension": ".py",
   "mimetype": "text/x-python",
   "name": "python",
   "nbconvert_exporter": "python",
   "pygments_lexer": "ipython3",
   "version": "3.8.12"
  }
 },
 "nbformat": 4,
 "nbformat_minor": 5
}
