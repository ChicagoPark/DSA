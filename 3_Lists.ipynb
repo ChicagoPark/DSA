{
 "cells": [
  {
   "cell_type": "markdown",
   "id": "20c0f45a",
   "metadata": {},
   "source": [
    "## Lists"
   ]
  },
  {
   "cell_type": "code",
   "execution_count": 2,
   "id": "f4de12ad",
   "metadata": {},
   "outputs": [
    {
     "name": "stdout",
     "output_type": "stream",
     "text": [
      "True\n",
      "Cheese\n"
     ]
    }
   ],
   "source": [
    "shopping_List = ['Milk', 'Cheese', 'Butter']\n",
    "\n",
    "print('Milk' in shopping_List)\n",
    "\n",
    "print(shopping_List[-2])"
   ]
  },
  {
   "cell_type": "markdown",
   "id": "cb9645a7",
   "metadata": {},
   "source": [
    "## [1] Update/Insert a List"
   ]
  },
  {
   "cell_type": "code",
   "execution_count": 9,
   "id": "8c4e4cff",
   "metadata": {},
   "outputs": [
    {
     "name": "stdout",
     "output_type": "stream",
     "text": [
      "[1, 2, 3, 4, 5, 6, 7]\n",
      "[0, 1, 2, 3, 4, 5, 6, 7]\n",
      "[0, 1, 2, 3, 4, 5, 6, 7, 8, 8, 8]\n"
     ]
    }
   ],
   "source": [
    "myList = [1,2,3,4,5,6,7]\n",
    "print(myList)\n",
    "\n",
    "# Insert method\n",
    "myList.insert(0, 0)\n",
    "print(myList)\n",
    "\n",
    "#extend method\n",
    "newList = [8,8,8]\n",
    "myList.extend(newList)\n",
    "print(myList)"
   ]
  },
  {
   "cell_type": "markdown",
   "id": "739dc098",
   "metadata": {},
   "source": [
    "## [2] Slice/Delete from a list"
   ]
  },
  {
   "cell_type": "code",
   "execution_count": 16,
   "id": "039966ae",
   "metadata": {},
   "outputs": [
    {
     "name": "stdout",
     "output_type": "stream",
     "text": [
      "['x', 'y', 'c', 'd', 'e', 'f']\n",
      "['x', 'y', 'c', 'd', 'e']\n",
      "['x', 'c', 'd', 'e']\n",
      "['x', 'e']\n",
      "['x']\n"
     ]
    }
   ],
   "source": [
    "myList = ['a','b','c','d','e','f']\n",
    "myList[0:2] = ['x','y']\n",
    "print(myList[:])\n",
    "\n",
    "# pop method\n",
    "myList.pop()\n",
    "print(myList)\n",
    "\n",
    "myList.pop(1)\n",
    "print(myList)\n",
    "\n",
    "# delete\n",
    "del myList[1:3]\n",
    "print(myList)\n",
    "\n",
    "# remove method\n",
    "myList.remove('e')\n",
    "print(myList)"
   ]
  },
  {
   "cell_type": "markdown",
   "id": "fae4a358",
   "metadata": {},
   "source": [
    "## [3] Searching for an element in a list"
   ]
  },
  {
   "cell_type": "code",
   "execution_count": 19,
   "id": "aa9ba754",
   "metadata": {},
   "outputs": [
    {
     "name": "stdout",
     "output_type": "stream",
     "text": [
      "there is 20 in the list\n"
     ]
    }
   ],
   "source": [
    "myList = [10,20,30,40,50,60,70,80,90]\n",
    "find = 20\n",
    "if find in myList:\n",
    "    print(f\"there is {find} in the list\")\n",
    "else:\n",
    "    print(f\"there is no {find} in the list\")"
   ]
  },
  {
   "cell_type": "markdown",
   "id": "fb1e21b2",
   "metadata": {},
   "source": [
    "## [4] List Operations/Functions"
   ]
  },
  {
   "cell_type": "code",
   "execution_count": 26,
   "id": "766acc8f",
   "metadata": {},
   "outputs": [
    {
     "name": "stdout",
     "output_type": "stream",
     "text": [
      "[1, 2, 3, 4, 5, 6]\n",
      "[1, 2, 3, 1, 2, 3, 1, 2, 3]\n",
      "6\n",
      "3.5\n"
     ]
    }
   ],
   "source": [
    "# '+'\n",
    "a = [1, 2, 3]\n",
    "b = [4, 5, 6]\n",
    "c = a + b\n",
    "print(c)\n",
    "\n",
    "# '*'\n",
    "a = a * 3\n",
    "print(a)\n",
    "\n",
    "# 'max'\n",
    "print(max(c))\n",
    "\n",
    "# 'sum'\n",
    "print(sum(c)/len(c))"
   ]
  },
  {
   "cell_type": "code",
   "execution_count": 32,
   "id": "315ed8c6",
   "metadata": {},
   "outputs": [
    {
     "name": "stdout",
     "output_type": "stream",
     "text": [
      "Put the number(finishing:type 'done'): 123\n",
      "Put the number(finishing:type 'done'): 123\n",
      "Put the number(finishing:type 'done'): done\n",
      "average value: 123.0\n"
     ]
    }
   ],
   "source": [
    "sumList = []\n",
    "while True:\n",
    "    inp = input(\"Put the number(finishing:type 'done'): \")\n",
    "    if inp == 'done':\n",
    "        print(f\"average value: {sum(sumList)/len(sumList)}\")\n",
    "        break\n",
    "    sumList.append(float(inp))"
   ]
  },
  {
   "cell_type": "markdown",
   "id": "81f55b5d",
   "metadata": {},
   "source": [
    "## [5] Strings and Lists"
   ]
  },
  {
   "cell_type": "code",
   "execution_count": 41,
   "id": "aa074385",
   "metadata": {},
   "outputs": [
    {
     "name": "stdout",
     "output_type": "stream",
     "text": [
      "['s', 'p', 'a', 'm', ' ', 's', 'p', 'a', 'm', ' ', 's', 'p', 'a', 'm']\n",
      "['spam', 'spam', 'spam']\n",
      "spam spam spam\n"
     ]
    }
   ],
   "source": [
    "# list function\n",
    "a = 'spam spam spam'\n",
    "b = list(a)\n",
    "print(b)\n",
    "\n",
    "# split method\n",
    "c = a.split(' ')\n",
    "print(c)\n",
    "\n",
    "# join method\n",
    "d = ' '.join(c)\n",
    "print(d)"
   ]
  },
  {
   "cell_type": "markdown",
   "id": "e192d5db",
   "metadata": {},
   "source": [
    "## [6] Common List pitfalls and ways to avoid them"
   ]
  },
  {
   "cell_type": "code",
   "execution_count": 42,
   "id": "30ec49f3",
   "metadata": {},
   "outputs": [
    {
     "name": "stdout",
     "output_type": "stream",
     "text": [
      "[2, 4, 3, 1, 5, 7]\n",
      "[1, 2, 3, 4, 5, 7]\n"
     ]
    }
   ],
   "source": [
    "myList = [2,4,3,1,5,7]\n",
    "orig = myList[:]\n",
    "myList.sort()\n",
    "print(orig)\n",
    "print(myList)"
   ]
  },
  {
   "cell_type": "markdown",
   "id": "082df37e",
   "metadata": {},
   "source": []
  }
 ],
 "metadata": {
  "kernelspec": {
   "display_name": "Python 3 (ipykernel)",
   "language": "python",
   "name": "python3"
  },
  "language_info": {
   "codemirror_mode": {
    "name": "ipython",
    "version": 3
   },
   "file_extension": ".py",
   "mimetype": "text/x-python",
   "name": "python",
   "nbconvert_exporter": "python",
   "pygments_lexer": "ipython3",
   "version": "3.8.12"
  }
 },
 "nbformat": 4,
 "nbformat_minor": 5
}
