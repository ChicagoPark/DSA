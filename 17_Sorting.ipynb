{
 "cells": [
  {
   "cell_type": "markdown",
   "id": "0afd7c89",
   "metadata": {},
   "source": [
    "# Sorting"
   ]
  },
  {
   "cell_type": "markdown",
   "id": "a2c03b4f",
   "metadata": {},
   "source": [
    "## Bubble Sort"
   ]
  },
  {
   "cell_type": "code",
   "execution_count": 1,
   "id": "c39915cd",
   "metadata": {},
   "outputs": [
    {
     "name": "stdout",
     "output_type": "stream",
     "text": [
      "[1, 2, 3, 4, 5, 6, 7, 8, 9]\n"
     ]
    }
   ],
   "source": [
    "def bubbleSort(customList):\n",
    "    for i in range(len(customList)):\n",
    "        for j in range(len(customList)-i-1): # since at the top of the part is filled with maximum value, we need to subtract i\n",
    "            if customList[j] > customList[j+1]:\n",
    "                customList[j], customList[j+1] = customList[j+1], customList[j]\n",
    "    print(customList)\n",
    "    \n",
    "cList = [2,1,7,6,5,3,4,9,8]\n",
    "bubbleSort(cList)"
   ]
  },
  {
   "cell_type": "markdown",
   "id": "470e0390",
   "metadata": {},
   "source": [
    "## Selection Sort "
   ]
  },
  {
   "cell_type": "code",
   "execution_count": 2,
   "id": "8a4ac39c",
   "metadata": {},
   "outputs": [
    {
     "name": "stdout",
     "output_type": "stream",
     "text": [
      "[1, 2, 3, 4, 5, 6, 7, 8, 9]\n"
     ]
    }
   ],
   "source": [
    "def selectionSort(customList):\n",
    "    sortedList = []\n",
    "    for i in range(len(customList)):\n",
    "        min_index = i\n",
    "        for j in range(i+1, len(customList)):\n",
    "            if customList[min_index] > customList[j]:\n",
    "                min_index = j\n",
    "        customList[i], customList[min_index] = customList[min_index], customList[i]\n",
    "    print(customList)\n",
    "    \n",
    "cList = [2,1,7,6,5,3,4,9,8]\n",
    "selectionSort(cList)"
   ]
  },
  {
   "cell_type": "markdown",
   "id": "b7ac505c",
   "metadata": {},
   "source": [
    "## Insertion Sort"
   ]
  },
  {
   "cell_type": "code",
   "execution_count": 6,
   "id": "fb68687d",
   "metadata": {},
   "outputs": [
    {
     "name": "stdout",
     "output_type": "stream",
     "text": [
      "[1, 2, 3, 4, 5, 6, 7, 8, 9]\n"
     ]
    }
   ],
   "source": [
    "def insertionSort(customList):\n",
    "    # for: i is right side of the criteria / j is left side of the criteria\n",
    "    for i in range(1, len(customList)):\n",
    "        key = customList[i]\n",
    "        j = i-1\n",
    "        while j >= 0 and customList[j] > key:\n",
    "            customList[j+1]=customList[j]\n",
    "            j -= 1\n",
    "        customList[j+1]=key\n",
    "    return customList\n",
    "    \n",
    "    \n",
    "cList = [2,1,7,6,5,3,4,9,8]\n",
    "print(insertionSort(cList))"
   ]
  },
  {
   "cell_type": "markdown",
   "id": "dcc6c271",
   "metadata": {},
   "source": [
    "## Bucket Sort"
   ]
  },
  {
   "cell_type": "code",
   "execution_count": 7,
   "id": "ba82af57",
   "metadata": {
    "scrolled": true
   },
   "outputs": [
    {
     "name": "stdout",
     "output_type": "stream",
     "text": [
      "[1, 2, 3, 4, 5, 6, 7, 8, 9]\n"
     ]
    }
   ],
   "source": [
    "import math\n",
    "def bucketSort(customList):\n",
    "    numberofBuckets = round(math.sqrt(len(customList)))\n",
    "    maxValue = max(customList)\n",
    "    arr = []\n",
    "    \n",
    "    # make buckets\n",
    "    for i in range(numberofBuckets):\n",
    "        arr.append([])\n",
    "    \n",
    "    # bucker selection\n",
    "    for j in customList:\n",
    "        index_b = math.ceil(j*numberofBuckets/maxValue)\n",
    "        arr[index_b-1].append(j)\n",
    "        \n",
    "    # sort inside of the buckets\n",
    "    for i in range(numberofBuckets):\n",
    "        arr[i] = insertionSort(arr[i])\n",
    "        \n",
    "    \n",
    "    k = 0\n",
    "    for i in range(numberofBuckets):\n",
    "        for j in range(len(arr[i])):\n",
    "            customList[k] = arr[i][j]\n",
    "            k+=1\n",
    "    return customList\n",
    "\n",
    "    \n",
    "cList = [2,1,7,6,5,3,4,9,8]\n",
    "print(bucketSort(cList))"
   ]
  },
  {
   "cell_type": "markdown",
   "id": "13e2c9c1",
   "metadata": {},
   "source": [
    "## Merge Sort"
   ]
  },
  {
   "cell_type": "code",
   "execution_count": 11,
   "id": "47f406b9",
   "metadata": {},
   "outputs": [
    {
     "data": {
      "text/plain": [
       "[1, 2, 3, 4, 5, 6, 7, 8, 9]"
      ]
     },
     "execution_count": 11,
     "metadata": {},
     "output_type": "execute_result"
    }
   ],
   "source": [
    "def merge(customList, l, m, r):\n",
    "    # number of elements in first sub array\n",
    "    n1 = m-l+1\n",
    "    # number of elements in second sub array\n",
    "    n2 = r-m\n",
    "    \n",
    "    L = [0]*(n1)\n",
    "    R = [0]*(n2)\n",
    "    \n",
    "    # divide array as two\n",
    "    for i in range(0, n1):\n",
    "        L[i] = customList[l+i]\n",
    "        \n",
    "    for j in range(0, n2):\n",
    "        R[j] = customList[m+1+j]\n",
    "        \n",
    "    i = 0 # initial index of first sub array\n",
    "    j = 0 # initial index of second sub array\n",
    "    k = l # initial index of merged array\n",
    "    \n",
    "    # combine arrays as one\n",
    "    while i < n1 and j < n2:\n",
    "        if L[i] <= R[j]:\n",
    "            customList[k] = L[i]\n",
    "            i+=1\n",
    "        else:\n",
    "            customList[k] = R[j]\n",
    "            j+=1\n",
    "        k+=1\n",
    "    # since one of the arrays amog L or R is reached the last index, we can use the following loop\n",
    "    while i < n1:\n",
    "        customList[k] = L[i]\n",
    "        i+=1\n",
    "        k+=1\n",
    "    while j < n2:\n",
    "        customList[k] = R[j]\n",
    "        j+=1\n",
    "        k+=1\n",
    "        \n",
    "def mergeSort(customList, l, r):\n",
    "    if l < r:\n",
    "        m = (l+(r-1))//2\n",
    "        mergeSort(customList, l, m)\n",
    "        mergeSort(customList, m+1, r)\n",
    "        merge(customList, l, m, r)\n",
    "    return customList\n",
    "    \n",
    "cList = [2,1,7,6,5,3,4,9,8]\n",
    "mergeSort(cList, 0, len(cList)-1)"
   ]
  },
  {
   "cell_type": "markdown",
   "id": "90eb4691",
   "metadata": {},
   "source": [
    "## Quick Sort"
   ]
  },
  {
   "cell_type": "code",
   "execution_count": 14,
   "id": "54b0145c",
   "metadata": {},
   "outputs": [
    {
     "name": "stdout",
     "output_type": "stream",
     "text": [
      "[1, 2, 3, 4, 5, 6, 7, 8, 9]\n"
     ]
    }
   ],
   "source": [
    "def partition(customList, low, high):\n",
    "    i = low - 1\n",
    "    pivot =customList[high] # We chose the index at the last node as a pivot\n",
    "    for j in range(low, high):\n",
    "        if customList[j] <= pivot:\n",
    "            i+=1\n",
    "            customList[i],customList[j] = customList[j], customList[i]\n",
    "    customList[i+1], customList[high] = customList[high], customList[i+1]\n",
    "    return (i+1)\n",
    "\n",
    "def quickSort(customList, low, high):\n",
    "    if low < high:\n",
    "        pi = partition(customList, low, high)\n",
    "        quickSort(customList, low, pi-1)\n",
    "        quickSort(customList, pi, high)\n",
    "        \n",
    "cList = [2,1,7,6,5,3,4,9,8]\n",
    "quickSort(cList, 0, len(cList)-1)\n",
    "print(cList)"
   ]
  },
  {
   "cell_type": "markdown",
   "id": "94d764a6",
   "metadata": {},
   "source": [
    "## Heap Sort"
   ]
  },
  {
   "cell_type": "code",
   "execution_count": 15,
   "id": "35dde5a5",
   "metadata": {},
   "outputs": [
    {
     "name": "stdout",
     "output_type": "stream",
     "text": [
      "[1, 2, 3, 4, 5, 6, 7, 8, 9]\n"
     ]
    }
   ],
   "source": [
    "def heapify(customList, n, i):\n",
    "    smallest = i\n",
    "    l = 2*i + 1\n",
    "    r = 2*i + 2\n",
    "    if l<n and customList[l]<customList[smallest]:\n",
    "        smallest = l\n",
    "    if r<n and customList[r]<customList[smallest]:\n",
    "        smallest = r\n",
    "    if smallest != i:\n",
    "        customList[i], customList[smallest] = customList[smallest], customList[i]\n",
    "        heapify(customList, n, smallest)\n",
    "\n",
    "def heapSort(customList):\n",
    "    n = len(customList)\n",
    "    for i in range(int(n/2)-1,-1,-1):\n",
    "        heapify(customList,n,i)\n",
    "        \n",
    "    for i in range(n-1,0,-1):\n",
    "        customList[i],customList[0] = customList[0], customList[i]\n",
    "        heapify(customList, i, 0)\n",
    "    customList.reverse()\n",
    "    \n",
    "cList = [2,1,7,6,5,3,4,9,8]\n",
    "heapSort(cList)\n",
    "print(cList)"
   ]
  },
  {
   "cell_type": "code",
   "execution_count": null,
   "id": "7aec0af6",
   "metadata": {},
   "outputs": [],
   "source": []
  }
 ],
 "metadata": {
  "kernelspec": {
   "display_name": "Python 3 (ipykernel)",
   "language": "python",
   "name": "python3"
  },
  "language_info": {
   "codemirror_mode": {
    "name": "ipython",
    "version": 3
   },
   "file_extension": ".py",
   "mimetype": "text/x-python",
   "name": "python",
   "nbconvert_exporter": "python",
   "pygments_lexer": "ipython3",
   "version": "3.8.12"
  }
 },
 "nbformat": 4,
 "nbformat_minor": 5
}
