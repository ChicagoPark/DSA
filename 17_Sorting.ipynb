{
 "cells": [
  {
   "cell_type": "markdown",
   "id": "0afd7c89",
   "metadata": {},
   "source": [
    "# Sorting"
   ]
  },
  {
   "cell_type": "markdown",
   "id": "a2c03b4f",
   "metadata": {},
   "source": [
    "## Bubble Sort"
   ]
  },
  {
   "cell_type": "code",
   "execution_count": 1,
   "id": "c39915cd",
   "metadata": {},
   "outputs": [
    {
     "name": "stdout",
     "output_type": "stream",
     "text": [
      "[1, 2, 3, 4, 5, 6, 7, 8, 9]\n"
     ]
    }
   ],
   "source": [
    "def bubbleSort(customList):\n",
    "    for i in range(len(customList)):\n",
    "        for j in range(len(customList)-i-1): # since at the top of the part is filled with maximum value, we need to subtract i\n",
    "            if customList[j] > customList[j+1]:\n",
    "                customList[j], customList[j+1] = customList[j+1], customList[j]\n",
    "    print(customList)\n",
    "    \n",
    "cList = [2,1,7,6,5,3,4,9,8]\n",
    "bubbleSort(cList)\n",
    "        "
   ]
  },
  {
   "cell_type": "markdown",
   "id": "470e0390",
   "metadata": {},
   "source": [
    "## Selection Sort "
   ]
  },
  {
   "cell_type": "code",
   "execution_count": 3,
   "id": "8a4ac39c",
   "metadata": {},
   "outputs": [
    {
     "name": "stdout",
     "output_type": "stream",
     "text": [
      "[1, 2, 3, 4, 5, 6, 7, 8, 9]\n"
     ]
    }
   ],
   "source": [
    "def selectionSort(customList):\n",
    "    sortedList = []\n",
    "    for i in range(len(customList)):\n",
    "        min_index = i\n",
    "        for j in range(i+1, len(customList)):\n",
    "            if customList[min_index] > customList[j]:\n",
    "                min_index = j\n",
    "        customList[i], customList[min_index] = customList[min_index], customList[i]\n",
    "    print(customList)\n",
    "    \n",
    "cList = [2,1,7,6,5,3,4,9,8]\n",
    "selectionSort(cList)"
   ]
  },
  {
   "cell_type": "markdown",
   "id": "b7ac505c",
   "metadata": {},
   "source": [
    "## Insertion Sort"
   ]
  },
  {
   "cell_type": "code",
   "execution_count": 18,
   "id": "fb68687d",
   "metadata": {},
   "outputs": [
    {
     "name": "stdout",
     "output_type": "stream",
     "text": [
      "[1, 2, 3, 4, 5, 6, 7, 8, 9]\n"
     ]
    }
   ],
   "source": [
    "def insertionSort(customList):\n",
    "    # for: i is right side of the criteria / j is left side of the criteria\n",
    "    for i in range(1, len(customList)):\n",
    "        key = customList[i]\n",
    "        j = i-1\n",
    "        while j >= 0 and customList[j] > key:\n",
    "            customList[j+1]=customList[j]\n",
    "            j -= 1\n",
    "        customList[j+1]=key\n",
    "    print(customList)\n",
    "    \n",
    "    \n",
    "cList = [2,1,7,6,5,3,4,9,8]\n",
    "insertionSort(cList)"
   ]
  },
  {
   "cell_type": "markdown",
   "id": "dcc6c271",
   "metadata": {},
   "source": [
    "## Bucket Sort"
   ]
  },
  {
   "cell_type": "code",
   "execution_count": 24,
   "id": "ba82af57",
   "metadata": {
    "scrolled": true
   },
   "outputs": [
    {
     "name": "stdout",
     "output_type": "stream",
     "text": [
      "[1, 2, 3]\n",
      "[4, 5, 6]\n",
      "[7, 8, 9]\n"
     ]
    },
    {
     "ename": "TypeError",
     "evalue": "object of type 'NoneType' has no len()",
     "output_type": "error",
     "traceback": [
      "\u001b[1;31m---------------------------------------------------------------------------\u001b[0m",
      "\u001b[1;31mTypeError\u001b[0m                                 Traceback (most recent call last)",
      "\u001b[1;32m~\\AppData\\Local\\Temp/ipykernel_60252/2481828916.py\u001b[0m in \u001b[0;36m<module>\u001b[1;34m\u001b[0m\n\u001b[0;32m     23\u001b[0m \u001b[1;33m\u001b[0m\u001b[0m\n\u001b[0;32m     24\u001b[0m \u001b[0mcList\u001b[0m \u001b[1;33m=\u001b[0m \u001b[1;33m[\u001b[0m\u001b[1;36m2\u001b[0m\u001b[1;33m,\u001b[0m\u001b[1;36m1\u001b[0m\u001b[1;33m,\u001b[0m\u001b[1;36m7\u001b[0m\u001b[1;33m,\u001b[0m\u001b[1;36m6\u001b[0m\u001b[1;33m,\u001b[0m\u001b[1;36m5\u001b[0m\u001b[1;33m,\u001b[0m\u001b[1;36m3\u001b[0m\u001b[1;33m,\u001b[0m\u001b[1;36m4\u001b[0m\u001b[1;33m,\u001b[0m\u001b[1;36m9\u001b[0m\u001b[1;33m,\u001b[0m\u001b[1;36m8\u001b[0m\u001b[1;33m]\u001b[0m\u001b[1;33m\u001b[0m\u001b[1;33m\u001b[0m\u001b[0m\n\u001b[1;32m---> 25\u001b[1;33m \u001b[0mprint\u001b[0m\u001b[1;33m(\u001b[0m\u001b[0mbucketSort\u001b[0m\u001b[1;33m(\u001b[0m\u001b[0mcList\u001b[0m\u001b[1;33m)\u001b[0m\u001b[1;33m)\u001b[0m\u001b[1;33m\u001b[0m\u001b[1;33m\u001b[0m\u001b[0m\n\u001b[0m",
      "\u001b[1;32m~\\AppData\\Local\\Temp/ipykernel_60252/2481828916.py\u001b[0m in \u001b[0;36mbucketSort\u001b[1;34m(customList)\u001b[0m\n\u001b[0;32m     16\u001b[0m     \u001b[0mk\u001b[0m \u001b[1;33m=\u001b[0m \u001b[1;36m0\u001b[0m\u001b[1;33m\u001b[0m\u001b[1;33m\u001b[0m\u001b[0m\n\u001b[0;32m     17\u001b[0m     \u001b[1;32mfor\u001b[0m \u001b[0mi\u001b[0m \u001b[1;32min\u001b[0m \u001b[0mrange\u001b[0m\u001b[1;33m(\u001b[0m\u001b[0mnumberofBuckets\u001b[0m\u001b[1;33m)\u001b[0m\u001b[1;33m:\u001b[0m\u001b[1;33m\u001b[0m\u001b[1;33m\u001b[0m\u001b[0m\n\u001b[1;32m---> 18\u001b[1;33m         \u001b[1;32mfor\u001b[0m \u001b[0mj\u001b[0m \u001b[1;32min\u001b[0m \u001b[0mrange\u001b[0m\u001b[1;33m(\u001b[0m\u001b[0mlen\u001b[0m\u001b[1;33m(\u001b[0m\u001b[0marr\u001b[0m\u001b[1;33m[\u001b[0m\u001b[0mi\u001b[0m\u001b[1;33m]\u001b[0m\u001b[1;33m)\u001b[0m\u001b[1;33m)\u001b[0m\u001b[1;33m:\u001b[0m\u001b[1;33m\u001b[0m\u001b[1;33m\u001b[0m\u001b[0m\n\u001b[0m\u001b[0;32m     19\u001b[0m             \u001b[0mcustomList\u001b[0m\u001b[1;33m[\u001b[0m\u001b[0mk\u001b[0m\u001b[1;33m]\u001b[0m \u001b[1;33m=\u001b[0m \u001b[0marr\u001b[0m\u001b[1;33m[\u001b[0m\u001b[0mi\u001b[0m\u001b[1;33m]\u001b[0m\u001b[1;33m[\u001b[0m\u001b[0mj\u001b[0m\u001b[1;33m]\u001b[0m\u001b[1;33m\u001b[0m\u001b[1;33m\u001b[0m\u001b[0m\n\u001b[0;32m     20\u001b[0m             \u001b[0mk\u001b[0m \u001b[1;33m+=\u001b[0m \u001b[1;36m1\u001b[0m\u001b[1;33m\u001b[0m\u001b[1;33m\u001b[0m\u001b[0m\n",
      "\u001b[1;31mTypeError\u001b[0m: object of type 'NoneType' has no len()"
     ]
    }
   ],
   "source": [
    "import math\n",
    "def bucketSort(customList):\n",
    "    numberofBuckets = round(math.sqrt(len(customList)))\n",
    "    maxValue = max(customList)\n",
    "    arr = []\n",
    "    \n",
    "    # make buckets\n",
    "    for i in range(numberofBuckets):\n",
    "        arr.append([])\n",
    "    \n",
    "    # bucker selection\n",
    "    for j in customList:\n",
    "        index_b = math.ceil(j*numberofBuckets/maxValue)\n",
    "        arr[index_b-1].append(j)\n",
    "        \n",
    "    # sort inside of the buckets\n",
    "    for i in range(numberofBuckets):\n",
    "        arr[i] = insertionSort(arr[i])\n",
    "        \n",
    "    \n",
    "    k = 0\n",
    "    for i in range(numberofBuckets):\n",
    "        for j in range(len(arr[i])):\n",
    "            customList[k] = arr[i][j]\n",
    "            k+=1\n",
    "    return customList\n",
    "\n",
    "    \n",
    "cList = [2,1,7,6,5,3,4,9,8]\n",
    "print(bucketSort(cList))"
   ]
  },
  {
   "cell_type": "markdown",
   "id": "13e2c9c1",
   "metadata": {},
   "source": [
    "## Merge Sort"
   ]
  },
  {
   "cell_type": "markdown",
   "id": "90eb4691",
   "metadata": {},
   "source": [
    "## Quick Sort"
   ]
  },
  {
   "cell_type": "code",
   "execution_count": null,
   "id": "54b0145c",
   "metadata": {},
   "outputs": [],
   "source": []
  },
  {
   "cell_type": "markdown",
   "id": "94d764a6",
   "metadata": {},
   "source": [
    "## Heap Sort"
   ]
  },
  {
   "cell_type": "code",
   "execution_count": null,
   "id": "35dde5a5",
   "metadata": {},
   "outputs": [],
   "source": []
  }
 ],
 "metadata": {
  "kernelspec": {
   "display_name": "Python 3 (ipykernel)",
   "language": "python",
   "name": "python3"
  },
  "language_info": {
   "codemirror_mode": {
    "name": "ipython",
    "version": 3
   },
   "file_extension": ".py",
   "mimetype": "text/x-python",
   "name": "python",
   "nbconvert_exporter": "python",
   "pygments_lexer": "ipython3",
   "version": "3.8.12"
  }
 },
 "nbformat": 4,
 "nbformat_minor": 5
}
