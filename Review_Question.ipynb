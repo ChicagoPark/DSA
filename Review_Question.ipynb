{
 "cells": [
  {
   "attachments": {},
   "cell_type": "markdown",
   "id": "e7e28f17",
   "metadata": {},
   "source": [
    "## Interview Question - 3 (Section 3 - 20)\n",
    "### How to find GCD (Greatest Common Divisor) of two numbers using recursion?\n",
    "\n",
    "<!--\n",
    "[Explanation]\n",
    "![4.png](attachment:4.png)\n",
    "\n",
    "```python\n",
    "def gcd(a, b):\n",
    "    assert int(a)==a and int(b)==b, 'The numbers must be integer only!'\n",
    "    if b == 0:\n",
    "        return a\n",
    "    else:\n",
    "        return gcd(b, a%b)\n",
    "\n",
    "```\n",
    "\n",
    "\n",
    "print\n",
    "-->"
   ]
  },
  {
   "cell_type": "code",
   "execution_count": null,
   "id": "4cb0e1aa",
   "metadata": {},
   "outputs": [],
   "source": []
  }
 ],
 "metadata": {
  "kernelspec": {
   "display_name": "Python 3 (ipykernel)",
   "language": "python",
   "name": "python3"
  },
  "language_info": {
   "codemirror_mode": {
    "name": "ipython",
    "version": 3
   },
   "file_extension": ".py",
   "mimetype": "text/x-python",
   "name": "python",
   "nbconvert_exporter": "python",
   "pygments_lexer": "ipython3",
   "version": "3.8.12"
  }
 },
 "nbformat": 4,
 "nbformat_minor": 5
}
